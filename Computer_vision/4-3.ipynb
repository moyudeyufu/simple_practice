{
 "cells": [
  {
   "cell_type": "code",
   "execution_count": 1,
   "id": "b5285811",
   "metadata": {},
   "outputs": [],
   "source": [
    "import cv2\n",
    "import numpy as np\n",
    "\n",
    "# 读取两张图像\n",
    "img1 = cv2.imread(\"D:/test_pic/3_1.png\")\n",
    "img2 = cv2.imread(\"D:/test_pic/3_2.png\")\n",
    "\n",
    "# 提取ORB特征点和描述符\n",
    "orb = cv2.ORB_create()\n",
    "kp1, des1 = orb.detectAndCompute(img1, None)\n",
    "kp2, des2 = orb.detectAndCompute(img2, None)\n",
    "\n",
    "# 特征点匹配\n",
    "matcher = cv2.BFMatcher(cv2.NORM_HAMMING, crossCheck=True)\n",
    "matches = matcher.match(des1, des2)\n",
    "\n",
    "# 筛选出最佳匹配\n",
    "matches = sorted(matches, key=lambda x: x.distance)\n",
    "good_matches = matches[:64]\n",
    "\n",
    "# 获取匹配对应的特征点坐标\n",
    "src_pts = np.float32([ kp1[m.queryIdx].pt for m in good_matches ]).reshape(-1,1,2)\n",
    "dst_pts = np.float32([ kp2[m.trainIdx].pt for m in good_matches ]).reshape(-1,1,2)\n",
    "\n",
    "# 求解基础矩阵\n",
    "F, mask = cv2.findFundamentalMat(src_pts, dst_pts, cv2.FM_RANSAC)\n",
    "essential_matrix, _ = cv2.findEssentialMat(src_pts, dst_pts, focal=1, pp=(0,0), method=cv2.RANSAC, prob=0.999, threshold=1.0)"
   ]
  },
  {
   "cell_type": "code",
   "execution_count": 2,
   "id": "0675abd0",
   "metadata": {},
   "outputs": [
    {
     "name": "stdout",
     "output_type": "stream",
     "text": [
      "(3, 4)\n"
     ]
    }
   ],
   "source": [
    "# 恢复相机姿态\n",
    "retval, R, t, mask = cv2.recoverPose(essential_matrix, src_pts, dst_pts)\n",
    "\n",
    "# 构建相机投影矩阵(P)和反投影矩阵(Pinv)\n",
    "P_left = np.array([[1,0,0,0],[0,1,0,0],[0,0,1,0]])\n",
    "P_right = np.hstack((R, t))\n",
    "print(P_right.shape)\n",
    "homo_row = np.array([0, 0, 0, 1]).reshape((1, 4))\n",
    "P_right = np.vstack((P_right, homo_row))\n",
    "P_right[:, 3] = [0, 0, 0, 1]\n",
    "Pinv = np.linalg.pinv(P_right)"
   ]
  },
  {
   "cell_type": "code",
   "execution_count": 3,
   "id": "804d70c0",
   "metadata": {},
   "outputs": [
    {
     "ename": "error",
     "evalue": "OpenCV(4.6.0) D:\\a\\opencv-python\\opencv-python\\opencv\\modules\\calib3d\\src\\triangulate.cpp:82: error: (-209:Sizes of input arguments do not match) Size of projection matrices must be 3x4 in function 'icvTriangulatePoints'\n",
     "output_type": "error",
     "traceback": [
      "\u001b[1;31m---------------------------------------------------------------------------\u001b[0m",
      "\u001b[1;31merror\u001b[0m                                     Traceback (most recent call last)",
      "\u001b[1;32m<ipython-input-3-de28818168c7>\u001b[0m in \u001b[0;36m<module>\u001b[1;34m\u001b[0m\n\u001b[0;32m      1\u001b[0m \u001b[1;31m# 三角化重建\u001b[0m\u001b[1;33m\u001b[0m\u001b[1;33m\u001b[0m\u001b[1;33m\u001b[0m\u001b[0m\n\u001b[1;32m----> 2\u001b[1;33m \u001b[0mpoints_4d\u001b[0m \u001b[1;33m=\u001b[0m \u001b[0mcv2\u001b[0m\u001b[1;33m.\u001b[0m\u001b[0mtriangulatePoints\u001b[0m\u001b[1;33m(\u001b[0m\u001b[0mP_left\u001b[0m\u001b[1;33m,\u001b[0m \u001b[0mP_right\u001b[0m\u001b[1;33m,\u001b[0m \u001b[0msrc_pts\u001b[0m\u001b[1;33m,\u001b[0m \u001b[0mdst_pts\u001b[0m\u001b[1;33m)\u001b[0m\u001b[1;33m\u001b[0m\u001b[1;33m\u001b[0m\u001b[0m\n\u001b[0m\u001b[0;32m      3\u001b[0m \u001b[0mpoints_3d\u001b[0m \u001b[1;33m=\u001b[0m \u001b[0mcv2\u001b[0m\u001b[1;33m.\u001b[0m\u001b[0mconvertPointsFromHomogeneous\u001b[0m\u001b[1;33m(\u001b[0m\u001b[0mpoints_4d\u001b[0m\u001b[1;33m.\u001b[0m\u001b[0mT\u001b[0m\u001b[1;33m)\u001b[0m\u001b[1;33m\u001b[0m\u001b[1;33m\u001b[0m\u001b[0m\n\u001b[0;32m      4\u001b[0m \u001b[1;33m\u001b[0m\u001b[0m\n\u001b[0;32m      5\u001b[0m \u001b[1;31m# 显示结果\u001b[0m\u001b[1;33m\u001b[0m\u001b[1;33m\u001b[0m\u001b[1;33m\u001b[0m\u001b[0m\n",
      "\u001b[1;31merror\u001b[0m: OpenCV(4.6.0) D:\\a\\opencv-python\\opencv-python\\opencv\\modules\\calib3d\\src\\triangulate.cpp:82: error: (-209:Sizes of input arguments do not match) Size of projection matrices must be 3x4 in function 'icvTriangulatePoints'\n"
     ]
    }
   ],
   "source": [
    "# 三角化重建\n",
    "points_4d = cv2.triangulatePoints(P_left, P_right, src_pts, dst_pts)\n",
    "points_3d = cv2.convertPointsFromHomogeneous(points_4d.T)\n",
    "\n",
    "# 显示结果\n",
    "for i in range(points_3d.shape[0]):\n",
    "    print(\"Point \", i, \" : \", points_3d[i][0])"
   ]
  },
  {
   "cell_type": "code",
   "execution_count": null,
   "id": "3e64d1b9",
   "metadata": {},
   "outputs": [
    {
     "name": "stdout",
     "output_type": "stream",
     "text": [
      "[[-8.2504861e-02 -3.5726022e-02 -7.2445441e-04]\n",
      " [-1.4046472e-02 -1.0102340e-02 -4.8160055e-05]\n",
      " [-1.1889264e-01 -5.8622055e-02 -8.1439130e-04]\n",
      " ...\n",
      " [-8.7971318e-01 -3.9275861e-01 -2.8914839e-03]\n",
      " [-4.1825688e-01 -1.9074553e-01 -1.3811325e-03]\n",
      " [-9.0516090e-01 -4.0388402e-01 -3.1076462e-03]]\n"
     ]
    }
   ],
   "source": [
    "import cv2\n",
    "import numpy as np\n",
    "\n",
    "# 加载图像并找到特征点\n",
    "img_left = cv2.imread(\"D:/test_pic/3_1.png\")\n",
    "img_right = cv2.imread(\"D:/test_pic/3_2.png\")\n",
    "\n",
    "sift = cv2.SIFT_create()\n",
    "kp1, des1 = sift.detectAndCompute(img_left, None)\n",
    "kp2, des2 = sift.detectAndCompute(img_right, None)\n",
    "\n",
    "# 使用FLANN匹配器进行特征点匹配\n",
    "matcher = cv2.FlannBasedMatcher()\n",
    "matches = matcher.match(des1, des2)\n",
    "\n",
    "# 根据匹配结果获取对应的特征点坐标\n",
    "src_pts = np.float32([ kp1[m.queryIdx].pt for m in matches ]).reshape(-1, 1, 2)\n",
    "dst_pts = np.float32([ kp2[m.trainIdx].pt for m in matches ]).reshape(-1, 1, 2)\n",
    "\n",
    "# 计算基础矩阵\n",
    "F, mask = cv2.findFundamentalMat(src_pts, dst_pts, cv2.FM_RANSAC)\n",
    "\n",
    "# 根据基础矩阵计算本质矩阵\n",
    "K = np.array([[1, 0, img_left.shape[1]/2], [0, 1, img_left.shape[0]/2], [0, 0, 1]])\n",
    "E = np.matmul(np.matmul(K.T, F), K)\n",
    "R1, R2, t = cv2.decomposeEssentialMat(E)\n",
    "\n",
    "# 构造相机投影矩阵\n",
    "P_left = np.hstack((np.eye(3), np.zeros((3,1))))\n",
    "P_right = np.hstack((R2, t))\n",
    "\n",
    "# 构造匹配点对，进行三角化\n",
    "points_4d = cv2.triangulatePoints(P_left, P_right, src_pts, dst_pts)\n",
    "points_3d = (points_4d / points_4d[3,:])[:3,:].T\n",
    "\n",
    "# 显示结果\n",
    "print(points_3d)\n",
    "cv2.imshow(\"Left Image\", img_left)\n",
    "cv2.imshow(\"Right Image\", img_right)\n",
    "cv2.waitKey(0)"
   ]
  },
  {
   "cell_type": "code",
   "execution_count": null,
   "id": "c854fc0c",
   "metadata": {},
   "outputs": [],
   "source": []
  }
 ],
 "metadata": {
  "kernelspec": {
   "display_name": "Python 3",
   "language": "python",
   "name": "python3"
  },
  "language_info": {
   "codemirror_mode": {
    "name": "ipython",
    "version": 3
   },
   "file_extension": ".py",
   "mimetype": "text/x-python",
   "name": "python",
   "nbconvert_exporter": "python",
   "pygments_lexer": "ipython3",
   "version": "3.6.13"
  },
  "toc": {
   "base_numbering": 1,
   "nav_menu": {},
   "number_sections": true,
   "sideBar": true,
   "skip_h1_title": false,
   "title_cell": "Table of Contents",
   "title_sidebar": "Contents",
   "toc_cell": false,
   "toc_position": {},
   "toc_section_display": true,
   "toc_window_display": false
  }
 },
 "nbformat": 4,
 "nbformat_minor": 5
}
