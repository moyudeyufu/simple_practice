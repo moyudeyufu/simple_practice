{
 "cells": [
  {
   "cell_type": "code",
   "execution_count": 1,
   "id": "661a14ee",
   "metadata": {},
   "outputs": [],
   "source": [
    "import cv2\n",
    "import numpy as np\n",
    "import math\n",
    "import matplotlib.pyplot as plt\n",
    "#现实坐标\n",
    "X=np.array([[31,28],\n",
    "          [59,63],\n",
    "            [30,62],\n",
    "            [59,32],\n",
    "        [31,28],\n",
    "          [59,63],\n",
    "           [30,62],\n",
    "            [59,32]])"
   ]
  },
  {
   "cell_type": "code",
   "execution_count": 2,
   "id": "c7e20fb9",
   "metadata": {},
   "outputs": [],
   "source": [
    "list_x=[]\n",
    "list_y=[]\n",
    "def onMouse(event,x,y,flags,params):\n",
    "    if event==cv2.EVENT_LBUTTONDOWN:\n",
    "        print(x,y)\n",
    "        list_x.append(x)\n",
    "        list_y.append(y)\n",
    "    return list_x,list_y"
   ]
  },
  {
   "cell_type": "code",
   "execution_count": 3,
   "id": "69c66a79",
   "metadata": {},
   "outputs": [
    {
     "name": "stdout",
     "output_type": "stream",
     "text": [
      "250 216\n",
      "486 219\n",
      "485 451\n",
      "249 452\n"
     ]
    },
    {
     "data": {
      "text/plain": [
       "-1"
      ]
     },
     "execution_count": 3,
     "metadata": {},
     "output_type": "execute_result"
    }
   ],
   "source": [
    "img = cv2.imread('D:/test_pic/hbt.jpg',1)\n",
    "cv2.imshow('sample',img)\n",
    "cv2.setMouseCallback('sample',onMouse)\n",
    "cv2.waitKey(0)"
   ]
  },
  {
   "cell_type": "code",
   "execution_count": 4,
   "id": "21113f66",
   "metadata": {},
   "outputs": [
    {
     "name": "stdout",
     "output_type": "stream",
     "text": [
      "416 457\n",
      "600 477\n",
      "565 643\n",
      "370 617\n"
     ]
    },
    {
     "data": {
      "text/plain": [
       "-1"
      ]
     },
     "execution_count": 4,
     "metadata": {},
     "output_type": "execute_result"
    }
   ],
   "source": [
    "img_1 = cv2.imread('D:/test_pic/hbt_1.jpg',1)\n",
    "cv2.imshow('sample_1',img_1)\n",
    "cv2.setMouseCallback('sample_1',onMouse)\n",
    "cv2.waitKey(0)"
   ]
  },
  {
   "cell_type": "code",
   "execution_count": 5,
   "id": "8bdf4cbf",
   "metadata": {},
   "outputs": [
    {
     "name": "stdout",
     "output_type": "stream",
     "text": [
      "[[250 486 485 249 416 600 565 370]]\n",
      "[[216 219 451 452 457 477 643 617]]\n"
     ]
    }
   ],
   "source": [
    "x = np.asarray([list_x])\n",
    "y = np.asarray([list_y])\n",
    "print(x)\n",
    "print(y)"
   ]
  },
  {
   "cell_type": "code",
   "execution_count": 6,
   "id": "61c719bd",
   "metadata": {},
   "outputs": [
    {
     "data": {
      "text/plain": [
       "array([[250, 216],\n",
       "       [486, 219],\n",
       "       [485, 451],\n",
       "       [249, 452],\n",
       "       [416, 457],\n",
       "       [600, 477],\n",
       "       [565, 643],\n",
       "       [370, 617]])"
      ]
     },
     "execution_count": 6,
     "metadata": {},
     "output_type": "execute_result"
    }
   ],
   "source": [
    "M = np.hstack((x.T,y.T))\n",
    "M"
   ]
  },
  {
   "cell_type": "code",
   "execution_count": 7,
   "id": "2a35f708",
   "metadata": {},
   "outputs": [
    {
     "data": {
      "text/plain": [
       "(array([[-6.12652562e+00, -8.89011194e-01,  4.23102402e+02],\n",
       "        [-5.75439142e+00, -1.86161044e+00,  4.59327385e+02],\n",
       "        [-1.25606637e-02, -3.92598617e-03,  1.00000000e+00]]),\n",
       " array([[0],\n",
       "        [1],\n",
       "        [1],\n",
       "        [1],\n",
       "        [1],\n",
       "        [0],\n",
       "        [0],\n",
       "        [0]], dtype=uint8))"
      ]
     },
     "execution_count": 7,
     "metadata": {},
     "output_type": "execute_result"
    }
   ],
   "source": [
    "h,s = cv2.findHomography(X,M,cv2.RANSAC,5)\n",
    "h,s"
   ]
  },
  {
   "cell_type": "code",
   "execution_count": 9,
   "id": "9417b73a",
   "metadata": {},
   "outputs": [
    {
     "data": {
      "text/plain": [
       "-1"
      ]
     },
     "execution_count": 9,
     "metadata": {},
     "output_type": "execute_result"
    }
   ],
   "source": [
    "rimg = cv2.warpPerspective(img_1,h,(img_1.shape[1],img_1.shape[0]))\n",
    "cv2.imshow('rrr',rimg)\n",
    "cv2.waitKey(0)"
   ]
  },
  {
   "cell_type": "code",
   "execution_count": null,
   "id": "7ca64d88",
   "metadata": {},
   "outputs": [],
   "source": []
  }
 ],
 "metadata": {
  "kernelspec": {
   "display_name": "Python 3",
   "language": "python",
   "name": "python3"
  },
  "language_info": {
   "codemirror_mode": {
    "name": "ipython",
    "version": 3
   },
   "file_extension": ".py",
   "mimetype": "text/x-python",
   "name": "python",
   "nbconvert_exporter": "python",
   "pygments_lexer": "ipython3",
   "version": "3.6.13"
  },
  "toc": {
   "base_numbering": 1,
   "nav_menu": {},
   "number_sections": true,
   "sideBar": true,
   "skip_h1_title": false,
   "title_cell": "Table of Contents",
   "title_sidebar": "Contents",
   "toc_cell": false,
   "toc_position": {},
   "toc_section_display": true,
   "toc_window_display": false
  }
 },
 "nbformat": 4,
 "nbformat_minor": 5
}
