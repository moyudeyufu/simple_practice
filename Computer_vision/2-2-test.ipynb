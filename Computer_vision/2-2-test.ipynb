{
 "cells": [
  {
   "cell_type": "code",
   "execution_count": 1,
   "id": "a5f1801f",
   "metadata": {},
   "outputs": [],
   "source": [
    "import cv2\n",
    "import numpy as np\n",
    "import math\n",
    "import matplotlib.pyplot as plt\n",
    "#现实坐标\n",
    "X=np.array([[80,160],\n",
    "           [160,160],\n",
    "           [160,80],\n",
    "           [80,80]])"
   ]
  },
  {
   "cell_type": "code",
   "execution_count": 2,
   "id": "b94222bd",
   "metadata": {},
   "outputs": [],
   "source": [
    "list_x=[]\n",
    "list_y=[]\n",
    "def onMouse(event,x,y,flags,params):\n",
    "    if event==cv2.EVENT_LBUTTONDOWN:\n",
    "        print(x,y)\n",
    "        list_x.append(x)\n",
    "        list_y.append(y)\n",
    "    return list_x,list_y"
   ]
  },
  {
   "cell_type": "code",
   "execution_count": 3,
   "id": "25cc0f84",
   "metadata": {},
   "outputs": [
    {
     "name": "stdout",
     "output_type": "stream",
     "text": [
      "136 100\n",
      "370 103\n",
      "367 334\n",
      "132 332\n"
     ]
    },
    {
     "data": {
      "text/plain": [
       "-1"
      ]
     },
     "execution_count": 3,
     "metadata": {},
     "output_type": "execute_result"
    }
   ],
   "source": [
    "img = cv2.imread('D:/test_pic/hbt.jpg',1)\n",
    "cv2.imshow('sample',img)\n",
    "cv2.setMouseCallback('sample',onMouse)\n",
    "cv2.waitKey(0)"
   ]
  },
  {
   "cell_type": "code",
   "execution_count": 4,
   "id": "228daf7c",
   "metadata": {},
   "outputs": [
    {
     "name": "stdout",
     "output_type": "stream",
     "text": [
      "1141 1187\n",
      "[[8.42459983e-04 0.00000000e+00 0.00000000e+00]\n",
      " [0.00000000e+00 8.76424189e-04 0.00000000e+00]\n",
      " [0.00000000e+00 0.00000000e+00 1.00000000e+00]]\n",
      "[[1.187e+03 0.000e+00 0.000e+00]\n",
      " [0.000e+00 1.141e+03 0.000e+00]\n",
      " [0.000e+00 0.000e+00 1.000e+00]]\n"
     ]
    }
   ],
   "source": [
    "h,w = img.shape[:2]\n",
    "print(h,w)\n",
    "#定义一个变换举证\n",
    "T=np.array([[1/w,0,0],[0,1/h,0],[0,0,1]])\n",
    "print(T)\n",
    "#获取T的逆矩阵\n",
    "T_inv = np.linalg.inv(T)\n",
    "print(T_inv)"
   ]
  },
  {
   "cell_type": "code",
   "execution_count": 5,
   "id": "2d048d43",
   "metadata": {},
   "outputs": [
    {
     "name": "stdout",
     "output_type": "stream",
     "text": [
      "[136, 370, 367, 132]\n",
      "***********\n",
      "[100, 103, 334, 332]\n"
     ]
    }
   ],
   "source": [
    "#得到图像上的坐标了\n",
    "print(list_x)\n",
    "print(\"***********\")\n",
    "print(list_y)"
   ]
  },
  {
   "cell_type": "code",
   "execution_count": 6,
   "id": "578da136",
   "metadata": {},
   "outputs": [
    {
     "data": {
      "text/plain": [
       "array([[0.11457456, 0.08764242],\n",
       "       [0.31171019, 0.09027169],\n",
       "       [0.30918281, 0.29272568],\n",
       "       [0.11120472, 0.29097283]])"
      ]
     },
     "execution_count": 6,
     "metadata": {},
     "output_type": "execute_result"
    }
   ],
   "source": [
    "x = np.asarray([list_x])\n",
    "y = np.asarray([list_y])\n",
    "p1 = np.array([list_x[0],list_y[0],1])\n",
    "p1_norm = T.dot(p1)\n",
    "p1_norm=p1_norm[:2].tolist()\n",
    "p2 = np.array([list_x[1],list_y[1],1])\n",
    "p2_norm = T.dot(p2)\n",
    "p2_norm=p2_norm[:2].tolist()\n",
    "p3 = np.array([list_x[2],list_y[2],1])\n",
    "p3_norm = T.dot(p3)\n",
    "p3_norm=p3_norm[:2].tolist()\n",
    "p4 = np.array([list_x[3],list_y[3],1])\n",
    "p4_norm = T.dot(p4)\n",
    "p4_norm=p4_norm[:2].tolist()\n",
    "M = np.array([[p1_norm[0],p1_norm[1]],[p2_norm[0],p2_norm[1]],[p3_norm[0],p3_norm[1]],[p4_norm[0],p4_norm[1]]])\n",
    "M"
   ]
  },
  {
   "cell_type": "code",
   "execution_count": 7,
   "id": "32b6c51a",
   "metadata": {},
   "outputs": [
    {
     "data": {
      "text/plain": [
       "(4, 2)"
      ]
     },
     "execution_count": 7,
     "metadata": {},
     "output_type": "execute_result"
    }
   ],
   "source": [
    "M.shape"
   ]
  },
  {
   "cell_type": "code",
   "execution_count": 8,
   "id": "367d532d",
   "metadata": {},
   "outputs": [
    {
     "name": "stdout",
     "output_type": "stream",
     "text": [
      "[[ 0.11457456  0.08764242  1.          0.          0.          0.\n",
      "  -0.91659646 -0.70113935]\n",
      " [ 0.          0.          0.          0.11457456  0.08764242  1.\n",
      "  -1.83319292 -1.4022787 ]\n",
      " [ 0.31171019  0.09027169  1.          0.          0.          0.\n",
      "  -4.9873631  -1.44434706]\n",
      " [ 0.          0.          0.          0.31171019  0.09027169  1.\n",
      "  -4.9873631  -1.44434706]\n",
      " [ 0.30918281  0.29272568  1.          0.          0.          0.\n",
      "  -4.94692502 -4.68361087]\n",
      " [ 0.          0.          0.          0.30918281  0.29272568  1.\n",
      "  -2.47346251 -2.34180543]\n",
      " [ 0.11120472  0.29097283  1.          0.          0.          0.\n",
      "  -0.88963774 -2.32778265]\n",
      " [ 0.          0.          0.          0.11120472  0.29097283  1.\n",
      "  -0.88963774 -2.32778265]]\n",
      "[0 0 0 0 0 0 0 0]\n"
     ]
    }
   ],
   "source": [
    "#构造系数矩阵\n",
    "A=np.array([[M[0,0],M[0,1],1,0,0,0,-M[0,0]*8,-M[0,1]*8],\n",
    "            [0,0,0,M[0,0],M[0,1],1,-M[0,0]*16,-M[0,1]*16],\n",
    "            [M[1,0],M[1,1],1,0,0,0,-M[1,0]*16,-M[1,1]*16],\n",
    "            [0,0,0,M[1,0],M[1,1],1,-M[1,0]*16,-M[1,1]*16],\n",
    "            [M[2,0],M[2,1],1,0,0,0,-M[2,0]*16,-M[2,1]*16],\n",
    "            [0,0,0,M[2,0],M[2,1],1,-M[2,0]*8,-M[2,1]*8],\n",
    "            [M[3,0],M[3,1],1,0,0,0,-M[3,0]*8,-M[3,1]*8],\n",
    "            [0,0,0,M[3,0],M[3,1],1,-M[3,0]*8,-M[3,1]*8]])\n",
    "print(A)\n",
    "#构造右侧矩阵b\n",
    "b=np.array([0,0,0,0,0,0,0,0])\n",
    "print(b)"
   ]
  },
  {
   "cell_type": "code",
   "execution_count": 9,
   "id": "db493c6f",
   "metadata": {},
   "outputs": [
    {
     "name": "stdout",
     "output_type": "stream",
     "text": [
      "[ 0.  0.  0.  0.  0.  0.  0. -0.]\n",
      "[[ 0.  0.  0.]\n",
      " [ 0.  0.  0.]\n",
      " [ 0. -0.  1.]]\n"
     ]
    }
   ],
   "source": [
    "#求解线性方程\n",
    "h = np.linalg.solve(A,b)\n",
    "print(h)\n",
    "h.resize(3,3)\n",
    "h[2,2]=1\n",
    "print(h)"
   ]
  },
  {
   "cell_type": "code",
   "execution_count": 11,
   "id": "8ec146fa",
   "metadata": {},
   "outputs": [],
   "source": [
    "np.savetxt('result.txt',h)"
   ]
  },
  {
   "cell_type": "code",
   "execution_count": null,
   "id": "defffecc",
   "metadata": {},
   "outputs": [],
   "source": []
  }
 ],
 "metadata": {
  "kernelspec": {
   "display_name": "Python 3",
   "language": "python",
   "name": "python3"
  },
  "language_info": {
   "codemirror_mode": {
    "name": "ipython",
    "version": 3
   },
   "file_extension": ".py",
   "mimetype": "text/x-python",
   "name": "python",
   "nbconvert_exporter": "python",
   "pygments_lexer": "ipython3",
   "version": "3.6.13"
  },
  "toc": {
   "base_numbering": 1,
   "nav_menu": {},
   "number_sections": true,
   "sideBar": true,
   "skip_h1_title": false,
   "title_cell": "Table of Contents",
   "title_sidebar": "Contents",
   "toc_cell": false,
   "toc_position": {},
   "toc_section_display": true,
   "toc_window_display": false
  }
 },
 "nbformat": 4,
 "nbformat_minor": 5
}
