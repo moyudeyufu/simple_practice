{
 "cells": [
  {
   "cell_type": "code",
   "execution_count": 46,
   "id": "66f92f75",
   "metadata": {},
   "outputs": [],
   "source": [
    "import cv2\n",
    "import numpy as np\n",
    "import math\n",
    "import matplotlib.pyplot as plt\n",
    "#现实坐标\n",
    "X=np.array([[0,11,12],\n",
    "           [0,29,42],\n",
    "           [9,0,11],\n",
    "           [32,0,39],\n",
    "            [11,9,0],\n",
    "            [30,20,0]])"
   ]
  },
  {
   "cell_type": "code",
   "execution_count": 47,
   "id": "48dd86ac",
   "metadata": {},
   "outputs": [
    {
     "data": {
      "text/plain": [
       "(0, 11, 12)"
      ]
     },
     "execution_count": 47,
     "metadata": {},
     "output_type": "execute_result"
    }
   ],
   "source": [
    "X[0,0],X[0,1],X[0,2]"
   ]
  },
  {
   "cell_type": "code",
   "execution_count": 48,
   "id": "063656dd",
   "metadata": {},
   "outputs": [],
   "source": [
    "list_x=[]\n",
    "list_y=[]\n",
    "def onMouse(event,x,y,flags,params):\n",
    "    if event==cv2.EVENT_LBUTTONDOWN:\n",
    "        print(x,y)\n",
    "        list_x.append(x)\n",
    "        list_y.append(y)\n",
    "    return list_x,list_y"
   ]
  },
  {
   "cell_type": "code",
   "execution_count": 59,
   "id": "29749fdc",
   "metadata": {},
   "outputs": [
    {
     "name": "stdout",
     "output_type": "stream",
     "text": [
      "924 292\n",
      "981 230\n",
      "853 311\n",
      "803 281\n",
      "907 363\n",
      "910 419\n"
     ]
    },
    {
     "data": {
      "text/plain": [
       "-1"
      ]
     },
     "execution_count": 59,
     "metadata": {},
     "output_type": "execute_result"
    }
   ],
   "source": [
    "img = cv2.imread('D:/test_pic/dlt2.jpg',1)\n",
    "cv2.imshow('sample',img)\n",
    "cv2.setMouseCallback('sample',onMouse)\n",
    "cv2.waitKey(0)"
   ]
  },
  {
   "cell_type": "code",
   "execution_count": 60,
   "id": "9d4193e9",
   "metadata": {},
   "outputs": [
    {
     "name": "stdout",
     "output_type": "stream",
     "text": [
      "[[925 984 852 805 907 910 924 981 853 803 907 910]]\n",
      "[[291 231 309 283 364 422 292 230 311 281 363 419]]\n"
     ]
    }
   ],
   "source": [
    "x = np.asarray([list_x])\n",
    "y = np.asarray([list_y])\n",
    "print(x)\n",
    "print(y)"
   ]
  },
  {
   "cell_type": "code",
   "execution_count": 61,
   "id": "fac653bd",
   "metadata": {},
   "outputs": [
    {
     "data": {
      "text/plain": [
       "array([[925, 291],\n",
       "       [984, 231],\n",
       "       [852, 309],\n",
       "       [805, 283],\n",
       "       [907, 364],\n",
       "       [910, 422],\n",
       "       [924, 292],\n",
       "       [981, 230],\n",
       "       [853, 311],\n",
       "       [803, 281],\n",
       "       [907, 363],\n",
       "       [910, 419]])"
      ]
     },
     "execution_count": 61,
     "metadata": {},
     "output_type": "execute_result"
    }
   ],
   "source": [
    "M = np.hstack((x.T,y.T))\n",
    "M"
   ]
  },
  {
   "cell_type": "code",
   "execution_count": 62,
   "id": "cd892616",
   "metadata": {},
   "outputs": [
    {
     "data": {
      "text/plain": [
       "array([[    0,   -11,   -12,    -1,     0,     0,     0,     0,     0,\n",
       "        10175, 11100,   925],\n",
       "       [    0,     0,     0,     0,     0,   -11,   -12,    -1,     0,\n",
       "         3201,  3492,   291],\n",
       "       [    0,   -29,   -42,    -1,     0,     0,     0,     0,     0,\n",
       "        28536, 41328,   984],\n",
       "       [    0,     0,     0,     0,     0,   -29,   -42,    -1,     0,\n",
       "         6699,  9702,   231],\n",
       "       [   -9,     0,   -11,    -1,     0,     0,     0,     0,  7668,\n",
       "            0,  9372,   852],\n",
       "       [    0,     0,     0,     0,    -9,     0,   -11,    -1,  2781,\n",
       "            0,  3399,   309],\n",
       "       [  -32,     0,   -39,    -1,     0,     0,     0,     0, 25760,\n",
       "            0, 31395,   805],\n",
       "       [    0,     0,     0,     0,   -32,     0,   -39,    -1,  9056,\n",
       "            0, 11037,   283],\n",
       "       [  -11,    -9,     0,    -1,     0,     0,     0,     0,  9977,\n",
       "         8163,     0,   907],\n",
       "       [    0,     0,     0,     0,   -11,    -9,     0,    -1,  4004,\n",
       "         3276,     0,   364],\n",
       "       [  -30,   -20,     0,    -1,     0,     0,     0,     0, 27300,\n",
       "        18200,     0,   910],\n",
       "       [    0,     0,     0,     0,   -30,   -20,     0,    -1, 12660,\n",
       "         8440,     0,   422]])"
      ]
     },
     "execution_count": 62,
     "metadata": {},
     "output_type": "execute_result"
    }
   ],
   "source": [
    "#构造系数矩阵\n",
    "A=np.array([[-X[0,0],-X[0,1],-X[0,2],-1,0,0,0,0,M[0,0]*X[0,0],M[0,0]*X[0,1],M[0,0]*X[0,2],M[0,0]],\n",
    "            [0,0,0,0,-X[0,0],-X[0,1],-X[0,2],-1,M[0,1]*X[0,0],M[0,1]*X[0,1],M[0,1]*X[0,2],M[0,1]],#1\n",
    "            [-X[1,0],-X[1,1],-X[1,2],-1,0,0,0,0,M[1,0]*X[1,0],M[1,0]*X[1,1],M[1,0]*X[1,2],M[1,0]],\n",
    "            [0,0,0,0,-X[1,0],-X[1,1],-X[1,2],-1,M[1,1]*X[1,0],M[1,1]*X[1,1],M[1,1]*X[1,2],M[1,1]],#2\n",
    "            [-X[2,0],-X[2,1],-X[2,2],-1,0,0,0,0,M[2,0]*X[2,0],M[2,0]*X[2,1],M[2,0]*X[2,2],M[2,0]],\n",
    "            [0,0,0,0,-X[2,0],-X[2,1],-X[2,2],-1,M[2,1]*X[2,0],M[2,1]*X[2,1],M[2,1]*X[2,2],M[2,1]],#3\n",
    "            [-X[3,0],-X[3,1],-X[3,2],-1,0,0,0,0,M[3,0]*X[3,0],M[3,0]*X[3,1],M[3,0]*X[3,2],M[3,0]],\n",
    "            [0,0,0,0,-X[3,0],-X[3,1],-X[3,2],-1,M[3,1]*X[3,0],M[3,1]*X[3,1],M[3,1]*X[3,2],M[3,1]],#4\n",
    "            [-X[4,0],-X[4,1],-X[4,2],-1,0,0,0,0,M[4,0]*X[4,0],M[4,0]*X[4,1],M[4,0]*X[4,2],M[4,0]],\n",
    "            [0,0,0,0,-X[4,0],-X[4,1],-X[4,2],-1,M[4,1]*X[4,0],M[4,1]*X[4,1],M[4,1]*X[4,2],M[4,1]],#5\n",
    "            [-X[5,0],-X[5,1],-X[5,2],-1,0,0,0,0,M[5,0]*X[5,0],M[5,0]*X[5,1],M[5,0]*X[5,2],M[5,0]],\n",
    "            [0,0,0,0,-X[5,0],-X[5,1],-X[5,2],-1,M[5,1]*X[5,0],M[5,1]*X[5,1],M[5,1]*X[5,2],M[5,1]]   \n",
    "           ])\n",
    "b=np.array([0,0,0,0,0,0,0,0,0,0,0,0])\n",
    "A"
   ]
  },
  {
   "cell_type": "code",
   "execution_count": 63,
   "id": "edbd35ef",
   "metadata": {},
   "outputs": [
    {
     "data": {
      "text/plain": [
       "1.4823251188760435e+19"
      ]
     },
     "execution_count": 63,
     "metadata": {},
     "output_type": "execute_result"
    }
   ],
   "source": [
    "#行列式值不为0\n",
    "np.linalg.det(A)"
   ]
  },
  {
   "cell_type": "code",
   "execution_count": 72,
   "id": "f4c82e4d",
   "metadata": {},
   "outputs": [],
   "source": [
    "s,v,d = np.linalg.svd(A)"
   ]
  },
  {
   "cell_type": "code",
   "execution_count": 73,
   "id": "fb44f4cc",
   "metadata": {},
   "outputs": [
    {
     "data": {
      "text/plain": [
       "array([ 2.98403353e-02,  1.51279614e-02,  1.49982827e-02, -9.99326649e-01,\n",
       "        4.79678431e-04,  6.98659341e-04,  1.24204224e-04, -2.45377197e-04,\n",
       "        9.86003541e-05,  9.09496954e-05, -2.19432356e-04,  1.06775195e-03])"
      ]
     },
     "execution_count": 73,
     "metadata": {},
     "output_type": "execute_result"
    }
   ],
   "source": [
    "R = d[:,-1]\n",
    "R"
   ]
  },
  {
   "cell_type": "code",
   "execution_count": 83,
   "id": "7a02141a",
   "metadata": {},
   "outputs": [
    {
     "data": {
      "text/plain": [
       "array([[ 2.98403353e-02,  1.51279614e-02,  1.49982827e-02,\n",
       "        -9.99326649e-01],\n",
       "       [ 4.79678431e-04,  6.98659341e-04,  1.24204224e-04,\n",
       "        -2.45377197e-04],\n",
       "       [ 9.86003541e-05,  9.09496954e-05, -2.19432356e-04,\n",
       "         1.06775195e-03]])"
      ]
     },
     "execution_count": 83,
     "metadata": {},
     "output_type": "execute_result"
    }
   ],
   "source": [
    "R=R.reshape(3,4)\n",
    "R"
   ]
  },
  {
   "cell_type": "code",
   "execution_count": 87,
   "id": "333c0846",
   "metadata": {},
   "outputs": [
    {
     "data": {
      "text/plain": [
       "array([[ 2.98403353e-02,  1.51279614e-02,  1.49982827e-02],\n",
       "       [ 4.79678431e-04,  6.98659341e-04,  1.24204224e-04],\n",
       "       [ 9.86003541e-05,  9.09496954e-05, -2.19432356e-04]])"
      ]
     },
     "execution_count": 87,
     "metadata": {},
     "output_type": "execute_result"
    }
   ],
   "source": [
    "H=R[:,:3]\n",
    "H"
   ]
  },
  {
   "cell_type": "code",
   "execution_count": 88,
   "id": "17e62a4b",
   "metadata": {},
   "outputs": [
    {
     "data": {
      "text/plain": [
       "array([-9.99326649e-01, -2.45377197e-04,  1.06775195e-03])"
      ]
     },
     "execution_count": 88,
     "metadata": {},
     "output_type": "execute_result"
    }
   ],
   "source": [
    "h=R[:,-1]\n",
    "h"
   ]
  },
  {
   "cell_type": "code",
   "execution_count": 89,
   "id": "a3e82423",
   "metadata": {},
   "outputs": [
    {
     "data": {
      "text/plain": [
       "array([[   46.85388362, -1333.17711143,  2447.86855697],\n",
       "       [  -33.44676182,  2284.77780607,  -992.8569287 ],\n",
       "       [    7.1905381 ,   347.93460631, -3868.79740466]])"
      ]
     },
     "execution_count": 89,
     "metadata": {},
     "output_type": "execute_result"
    }
   ],
   "source": [
    "H_1 = np.linalg.inv(H)\n",
    "H_1"
   ]
  },
  {
   "cell_type": "code",
   "execution_count": 91,
   "id": "69fbbe15",
   "metadata": {},
   "outputs": [
    {
     "data": {
      "text/plain": [
       "(array([[-0.8076244 , -0.44806361, -0.38338209],\n",
       "        [ 0.5765247 , -0.73658804, -0.35363447],\n",
       "        [-0.12394392, -0.50663307,  0.85320621]]),\n",
       " array([[  -58.01444755,  2350.81282385, -2069.85100489],\n",
       "        [    0.        , -1261.8670259 ,  1594.58642   ],\n",
       "        [    0.        ,     0.        , -3888.24249219]]))"
      ]
     },
     "execution_count": 91,
     "metadata": {},
     "output_type": "execute_result"
    }
   ],
   "source": [
    "Q,r = np.linalg.qr(H_1)\n",
    "Q,r"
   ]
  },
  {
   "cell_type": "code",
   "execution_count": 94,
   "id": "31526dfb",
   "metadata": {},
   "outputs": [
    {
     "name": "stdout",
     "output_type": "stream",
     "text": [
      "[[-0.01723709 -0.03211207 -0.00399339]\n",
      " [-0.         -0.00079248 -0.000325  ]\n",
      " [-0.         -0.         -0.00025719]]\n"
     ]
    }
   ],
   "source": [
    "K=np.linalg.inv(r)\n",
    "print(K)"
   ]
  },
  {
   "cell_type": "code",
   "execution_count": 93,
   "id": "4361d21b",
   "metadata": {},
   "outputs": [
    {
     "name": "stdout",
     "output_type": "stream",
     "text": [
      "[[-0.8076244   0.5765247  -0.12394392]\n",
      " [-0.44806361 -0.73658804 -0.50663307]\n",
      " [-0.38338209 -0.35363447  0.85320621]]\n"
     ]
    }
   ],
   "source": [
    "R = Q.T\n",
    "print(R)"
   ]
  },
  {
   "cell_type": "code",
   "execution_count": 92,
   "id": "62be5b35",
   "metadata": {},
   "outputs": [
    {
     "data": {
      "text/plain": [
       "array([[57.97538344, -0.57683586, -2.21008745],\n",
       "       [-0.        ,  0.30963339,  1.70262276],\n",
       "       [-0.        , -0.        , -4.15167851]])"
      ]
     },
     "execution_count": 92,
     "metadata": {},
     "output_type": "execute_result"
    }
   ],
   "source": [
    "t = r*h\n",
    "t"
   ]
  }
 ],
 "metadata": {
  "kernelspec": {
   "display_name": "Python 3",
   "language": "python",
   "name": "python3"
  },
  "language_info": {
   "codemirror_mode": {
    "name": "ipython",
    "version": 3
   },
   "file_extension": ".py",
   "mimetype": "text/x-python",
   "name": "python",
   "nbconvert_exporter": "python",
   "pygments_lexer": "ipython3",
   "version": "3.6.13"
  },
  "toc": {
   "base_numbering": 1,
   "nav_menu": {},
   "number_sections": true,
   "sideBar": true,
   "skip_h1_title": false,
   "title_cell": "Table of Contents",
   "title_sidebar": "Contents",
   "toc_cell": false,
   "toc_position": {},
   "toc_section_display": true,
   "toc_window_display": false
  }
 },
 "nbformat": 4,
 "nbformat_minor": 5
}
