{
 "cells": [
  {
   "cell_type": "code",
   "execution_count": 1,
   "id": "12861c35",
   "metadata": {},
   "outputs": [],
   "source": [
    "import cv2\n",
    "import numpy as np\n",
    "import math\n",
    "import matplotlib.pyplot as plt\n",
    "A=(0,80)\n",
    "B=(80,80)\n",
    "C=(80,0)\n",
    "D=(0,0)"
   ]
  },
  {
   "cell_type": "code",
   "execution_count": 2,
   "id": "e518af4c",
   "metadata": {},
   "outputs": [],
   "source": [
    "list_x=[]\n",
    "list_y=[]\n",
    "def onMouse(event,x,y,flags,params):\n",
    "    if event==cv2.EVENT_LBUTTONDOWN:\n",
    "        print(x,y)\n",
    "        list_x.append(x)\n",
    "        list_y.append(y)\n",
    "    return list_x,list_y"
   ]
  },
  {
   "cell_type": "code",
   "execution_count": 3,
   "id": "e207aebd",
   "metadata": {},
   "outputs": [
    {
     "name": "stdout",
     "output_type": "stream",
     "text": [
      "249 219\n",
      "605 221\n",
      "599 568\n",
      "248 564\n"
     ]
    },
    {
     "data": {
      "text/plain": [
       "-1"
      ]
     },
     "execution_count": 3,
     "metadata": {},
     "output_type": "execute_result"
    }
   ],
   "source": [
    "img = cv2.imread('D:/test_pic/hbt.jpg',1)\n",
    "cv2.imshow('sample',img)\n",
    "cv2.setMouseCallback('sample',onMouse)\n",
    "cv2.waitKey(0)"
   ]
  },
  {
   "cell_type": "code",
   "execution_count": 4,
   "id": "65443767",
   "metadata": {},
   "outputs": [
    {
     "name": "stdout",
     "output_type": "stream",
     "text": [
      "[249, 605, 599, 248]\n",
      "***********\n",
      "[219, 221, 568, 564]\n"
     ]
    }
   ],
   "source": [
    "#得到图像上的坐标了\n",
    "print(list_x)\n",
    "print(\"***********\")\n",
    "print(list_y)"
   ]
  },
  {
   "cell_type": "code",
   "execution_count": 5,
   "id": "86655ada",
   "metadata": {},
   "outputs": [
    {
     "name": "stdout",
     "output_type": "stream",
     "text": [
      "[[249 605 599 248]]\n",
      "[[219 221 568 564]]\n"
     ]
    }
   ],
   "source": [
    "x = np.asarray([list_x])\n",
    "y = np.asarray([list_y])\n",
    "print(x)\n",
    "print(y)"
   ]
  },
  {
   "cell_type": "code",
   "execution_count": 6,
   "id": "85944c61",
   "metadata": {},
   "outputs": [
    {
     "data": {
      "text/plain": [
       "array([[249, 219],\n",
       "       [605, 221],\n",
       "       [599, 568],\n",
       "       [248, 564]])"
      ]
     },
     "execution_count": 6,
     "metadata": {},
     "output_type": "execute_result"
    }
   ],
   "source": [
    "M = np.hstack((x.T,y.T))\n",
    "M"
   ]
  },
  {
   "cell_type": "code",
   "execution_count": 7,
   "id": "ddc2bc82",
   "metadata": {},
   "outputs": [
    {
     "name": "stdout",
     "output_type": "stream",
     "text": [
      "[[ 249  219    1    0    0    0 -249 -219   -1]\n",
      " [   0    0    0  249  219    1 -249 -219   -1]\n",
      " [ 605  221    1    0    0    0 -605 -221   -1]\n",
      " [   0    0    0  605  221    1 -605 -221   -1]\n",
      " [ 599  568    1    0    0    0 -599 -568   -1]\n",
      " [   0    0    0  599  568    1 -599 -568   -1]\n",
      " [ 248  564    1    0    0    0 -248 -564   -1]\n",
      " [   0    0    0  248  564    1 -248 -564   -1]\n",
      " [-356   -2    0    0    0    0  356    2    0]]\n",
      "[ -1  79  79  79  79  -1  -1  -1 -80]\n"
     ]
    }
   ],
   "source": [
    "#构造系数矩阵\n",
    "A=np.array([[M[0,0],M[0,1],1,0,0,0,-M[0,0],-M[0,1],-1],\n",
    "            [0,0,0,M[0,0],M[0,1],1,-M[0,0],-M[0,1],-1],\n",
    "            [M[1,0],M[1,1],1,0,0,0,-M[1,0],-M[1,1],-1],\n",
    "            [0,0,0,M[1,0],M[1,1],1,-M[1,0],-M[1,1],-1],\n",
    "            [M[2,0],M[2,1],1,0,0,0,-M[2,0],-M[2,1],-1],\n",
    "            [0,0,0,M[2,0],M[2,1],1,-M[2,0],-M[2,1],-1],\n",
    "            [M[3,0],M[3,1],1,0,0,0,-M[3,0],-M[3,1],-1],\n",
    "            [0,0,0,M[3,0],M[3,1],1,-M[3,0],-M[3,1],-1],\n",
    "            [M[0,0]-M[1,0],M[0,1]-M[1,1],0,0,0,0,-M[0,0]+M[1,0],-M[0,1]+M[1,1],0]])\n",
    "print(A)\n",
    "#构造右侧矩阵b\n",
    "b=np.array([-1,79,79,79,79,-1,-1,-1,-80])\n",
    "print(b)"
   ]
  },
  {
   "cell_type": "code",
   "execution_count": 8,
   "id": "a96b51dc",
   "metadata": {},
   "outputs": [
    {
     "ename": "LinAlgError",
     "evalue": "Singular matrix",
     "output_type": "error",
     "traceback": [
      "\u001b[1;31m---------------------------------------------------------------------------\u001b[0m",
      "\u001b[1;31mLinAlgError\u001b[0m                               Traceback (most recent call last)",
      "\u001b[1;32m<ipython-input-8-983b8978dbce>\u001b[0m in \u001b[0;36m<module>\u001b[1;34m\u001b[0m\n\u001b[1;32m----> 1\u001b[1;33m \u001b[0mx\u001b[0m \u001b[1;33m=\u001b[0m \u001b[0mnp\u001b[0m\u001b[1;33m.\u001b[0m\u001b[0mlinalg\u001b[0m\u001b[1;33m.\u001b[0m\u001b[0msolve\u001b[0m\u001b[1;33m(\u001b[0m\u001b[0mA\u001b[0m\u001b[1;33m,\u001b[0m\u001b[0mb\u001b[0m\u001b[1;33m)\u001b[0m\u001b[1;33m\u001b[0m\u001b[1;33m\u001b[0m\u001b[0m\n\u001b[0m\u001b[0;32m      2\u001b[0m \u001b[0mprint\u001b[0m\u001b[1;33m(\u001b[0m\u001b[0mx\u001b[0m\u001b[1;33m)\u001b[0m\u001b[1;33m\u001b[0m\u001b[1;33m\u001b[0m\u001b[0m\n\u001b[0;32m      3\u001b[0m \u001b[0mH\u001b[0m\u001b[1;33m=\u001b[0m\u001b[0mx\u001b[0m\u001b[1;33m.\u001b[0m\u001b[0mreshape\u001b[0m\u001b[1;33m(\u001b[0m\u001b[1;36m3\u001b[0m\u001b[1;33m,\u001b[0m\u001b[1;36m3\u001b[0m\u001b[1;33m)\u001b[0m\u001b[1;33m\u001b[0m\u001b[1;33m\u001b[0m\u001b[0m\n\u001b[0;32m      4\u001b[0m \u001b[0mprint\u001b[0m\u001b[1;33m(\u001b[0m\u001b[0mH\u001b[0m\u001b[1;33m)\u001b[0m\u001b[1;33m\u001b[0m\u001b[1;33m\u001b[0m\u001b[0m\n",
      "\u001b[1;32m<__array_function__ internals>\u001b[0m in \u001b[0;36msolve\u001b[1;34m(*args, **kwargs)\u001b[0m\n",
      "\u001b[1;32m~\\.conda\\envs\\pytorch\\lib\\site-packages\\numpy\\linalg\\linalg.py\u001b[0m in \u001b[0;36msolve\u001b[1;34m(a, b)\u001b[0m\n\u001b[0;32m    392\u001b[0m     \u001b[0msignature\u001b[0m \u001b[1;33m=\u001b[0m \u001b[1;34m'DD->D'\u001b[0m \u001b[1;32mif\u001b[0m \u001b[0misComplexType\u001b[0m\u001b[1;33m(\u001b[0m\u001b[0mt\u001b[0m\u001b[1;33m)\u001b[0m \u001b[1;32melse\u001b[0m \u001b[1;34m'dd->d'\u001b[0m\u001b[1;33m\u001b[0m\u001b[1;33m\u001b[0m\u001b[0m\n\u001b[0;32m    393\u001b[0m     \u001b[0mextobj\u001b[0m \u001b[1;33m=\u001b[0m \u001b[0mget_linalg_error_extobj\u001b[0m\u001b[1;33m(\u001b[0m\u001b[0m_raise_linalgerror_singular\u001b[0m\u001b[1;33m)\u001b[0m\u001b[1;33m\u001b[0m\u001b[1;33m\u001b[0m\u001b[0m\n\u001b[1;32m--> 394\u001b[1;33m     \u001b[0mr\u001b[0m \u001b[1;33m=\u001b[0m \u001b[0mgufunc\u001b[0m\u001b[1;33m(\u001b[0m\u001b[0ma\u001b[0m\u001b[1;33m,\u001b[0m \u001b[0mb\u001b[0m\u001b[1;33m,\u001b[0m \u001b[0msignature\u001b[0m\u001b[1;33m=\u001b[0m\u001b[0msignature\u001b[0m\u001b[1;33m,\u001b[0m \u001b[0mextobj\u001b[0m\u001b[1;33m=\u001b[0m\u001b[0mextobj\u001b[0m\u001b[1;33m)\u001b[0m\u001b[1;33m\u001b[0m\u001b[1;33m\u001b[0m\u001b[0m\n\u001b[0m\u001b[0;32m    395\u001b[0m \u001b[1;33m\u001b[0m\u001b[0m\n\u001b[0;32m    396\u001b[0m     \u001b[1;32mreturn\u001b[0m \u001b[0mwrap\u001b[0m\u001b[1;33m(\u001b[0m\u001b[0mr\u001b[0m\u001b[1;33m.\u001b[0m\u001b[0mastype\u001b[0m\u001b[1;33m(\u001b[0m\u001b[0mresult_t\u001b[0m\u001b[1;33m,\u001b[0m \u001b[0mcopy\u001b[0m\u001b[1;33m=\u001b[0m\u001b[1;32mFalse\u001b[0m\u001b[1;33m)\u001b[0m\u001b[1;33m)\u001b[0m\u001b[1;33m\u001b[0m\u001b[1;33m\u001b[0m\u001b[0m\n",
      "\u001b[1;32m~\\.conda\\envs\\pytorch\\lib\\site-packages\\numpy\\linalg\\linalg.py\u001b[0m in \u001b[0;36m_raise_linalgerror_singular\u001b[1;34m(err, flag)\u001b[0m\n\u001b[0;32m     86\u001b[0m \u001b[1;33m\u001b[0m\u001b[0m\n\u001b[0;32m     87\u001b[0m \u001b[1;32mdef\u001b[0m \u001b[0m_raise_linalgerror_singular\u001b[0m\u001b[1;33m(\u001b[0m\u001b[0merr\u001b[0m\u001b[1;33m,\u001b[0m \u001b[0mflag\u001b[0m\u001b[1;33m)\u001b[0m\u001b[1;33m:\u001b[0m\u001b[1;33m\u001b[0m\u001b[1;33m\u001b[0m\u001b[0m\n\u001b[1;32m---> 88\u001b[1;33m     \u001b[1;32mraise\u001b[0m \u001b[0mLinAlgError\u001b[0m\u001b[1;33m(\u001b[0m\u001b[1;34m\"Singular matrix\"\u001b[0m\u001b[1;33m)\u001b[0m\u001b[1;33m\u001b[0m\u001b[1;33m\u001b[0m\u001b[0m\n\u001b[0m\u001b[0;32m     89\u001b[0m \u001b[1;33m\u001b[0m\u001b[0m\n\u001b[0;32m     90\u001b[0m \u001b[1;32mdef\u001b[0m \u001b[0m_raise_linalgerror_nonposdef\u001b[0m\u001b[1;33m(\u001b[0m\u001b[0merr\u001b[0m\u001b[1;33m,\u001b[0m \u001b[0mflag\u001b[0m\u001b[1;33m)\u001b[0m\u001b[1;33m:\u001b[0m\u001b[1;33m\u001b[0m\u001b[1;33m\u001b[0m\u001b[0m\n",
      "\u001b[1;31mLinAlgError\u001b[0m: Singular matrix"
     ]
    }
   ],
   "source": [
    "x = np.linalg.solve(A,b)\n",
    "print(x)\n",
    "H=x.reshape(3,3)\n",
    "print(H)"
   ]
  },
  {
   "cell_type": "code",
   "execution_count": null,
   "id": "0fcced36",
   "metadata": {},
   "outputs": [],
   "source": [
    "test_x=[]\n",
    "test_y=[]\n",
    "def on_Mouse_test(event,x,y,flags,params):\n",
    "    if event==cv2.EVENT_LBUTTONDOWN:\n",
    "        print(x,y)\n",
    "        test_x.append(x)\n",
    "        test_y.append(y)\n",
    "    return test_x,test_y"
   ]
  },
  {
   "cell_type": "code",
   "execution_count": null,
   "id": "446a59ac",
   "metadata": {},
   "outputs": [],
   "source": [
    "img = cv2.imread('D:/test_pic/hbt.jpg',1)\n",
    "cv2.imshow('sample',img)\n",
    "cv2.setMouseCallback('sample',on_Mouse_test)\n",
    "cv2.waitKey(0)"
   ]
  },
  {
   "cell_type": "code",
   "execution_count": null,
   "id": "5633566e",
   "metadata": {},
   "outputs": [],
   "source": [
    "x_test = np.asarray([test_x])\n",
    "y_test = np.asarray([test_y])\n",
    "M_test=np.hstack((x_test.T,y_test.T))\n",
    "print(M_test)\n",
    "print(M_test.shape)"
   ]
  },
  {
   "cell_type": "code",
   "execution_count": null,
   "id": "4a38139c",
   "metadata": {},
   "outputs": [],
   "source": [
    "T_y_1 = np.array([M[0,0],M[0,1],1])\n",
    "T_1 = H.dot(T_y_1.T)\n",
    "print(T_1[0]/T_1[2])\n",
    "print(T_1[1]/T_1[2])"
   ]
  },
  {
   "cell_type": "code",
   "execution_count": null,
   "id": "16830918",
   "metadata": {},
   "outputs": [],
   "source": []
  }
 ],
 "metadata": {
  "kernelspec": {
   "display_name": "Python 3",
   "language": "python",
   "name": "python3"
  },
  "language_info": {
   "codemirror_mode": {
    "name": "ipython",
    "version": 3
   },
   "file_extension": ".py",
   "mimetype": "text/x-python",
   "name": "python",
   "nbconvert_exporter": "python",
   "pygments_lexer": "ipython3",
   "version": "3.6.13"
  },
  "toc": {
   "base_numbering": 1,
   "nav_menu": {},
   "number_sections": true,
   "sideBar": true,
   "skip_h1_title": false,
   "title_cell": "Table of Contents",
   "title_sidebar": "Contents",
   "toc_cell": false,
   "toc_position": {},
   "toc_section_display": true,
   "toc_window_display": false
  }
 },
 "nbformat": 4,
 "nbformat_minor": 5
}
