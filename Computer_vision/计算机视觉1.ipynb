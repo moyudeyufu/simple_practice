{
 "cells": [
  {
   "cell_type": "code",
   "execution_count": 1,
   "id": "5f2d16b7",
   "metadata": {},
   "outputs": [],
   "source": [
    "import numpy as np\n",
    "import cv2\n",
    "from sklearn.model_selection import train_test_split\n",
    "import matplotlib.pyplot as plt\n",
    "from sklearn import metrics\n",
    "def svd(M):\n",
    "    u,s,v = np.linalg.svd(M,full_matrices=False)\n",
    " \n",
    "    return u, s, v"
   ]
  },
  {
   "cell_type": "code",
   "execution_count": 2,
   "id": "57ce9f9e",
   "metadata": {},
   "outputs": [],
   "source": [
    "data=[]\n",
    "labels=[]\n",
    "for i in range(1,41):\n",
    "    for j in range(1,11):\n",
    "        img_path=f'G:/face_identification/Face/Face/ORL_Faces/s{i}/{j}.pgm'\n",
    "        img = cv2.imread(img_path,cv2.IMREAD_GRAYSCALE)\n",
    "        img = cv2.resize(img,(110,90))\n",
    "        data.append(np.array(img).flatten())\n",
    "        labels.append(i)"
   ]
  },
  {
   "cell_type": "code",
   "execution_count": 3,
   "id": "eab14baa",
   "metadata": {},
   "outputs": [
    {
     "name": "stdout",
     "output_type": "stream",
     "text": [
      "[1, 1, 1, 1, 1, 1, 1, 1, 1, 1, 2, 2, 2, 2, 2, 2, 2, 2, 2, 2, 3, 3, 3, 3, 3, 3, 3, 3, 3, 3, 4, 4, 4, 4, 4, 4, 4, 4, 4, 4, 5, 5, 5, 5, 5, 5, 5, 5, 5, 5, 6, 6, 6, 6, 6, 6, 6, 6, 6, 6, 7, 7, 7, 7, 7, 7, 7, 7, 7, 7, 8, 8, 8, 8, 8, 8, 8, 8, 8, 8, 9, 9, 9, 9, 9, 9, 9, 9, 9, 9, 10, 10, 10, 10, 10, 10, 10, 10, 10, 10, 11, 11, 11, 11, 11, 11, 11, 11, 11, 11, 12, 12, 12, 12, 12, 12, 12, 12, 12, 12, 13, 13, 13, 13, 13, 13, 13, 13, 13, 13, 14, 14, 14, 14, 14, 14, 14, 14, 14, 14, 15, 15, 15, 15, 15, 15, 15, 15, 15, 15, 16, 16, 16, 16, 16, 16, 16, 16, 16, 16, 17, 17, 17, 17, 17, 17, 17, 17, 17, 17, 18, 18, 18, 18, 18, 18, 18, 18, 18, 18, 19, 19, 19, 19, 19, 19, 19, 19, 19, 19, 20, 20, 20, 20, 20, 20, 20, 20, 20, 20, 21, 21, 21, 21, 21, 21, 21, 21, 21, 21, 22, 22, 22, 22, 22, 22, 22, 22, 22, 22, 23, 23, 23, 23, 23, 23, 23, 23, 23, 23, 24, 24, 24, 24, 24, 24, 24, 24, 24, 24, 25, 25, 25, 25, 25, 25, 25, 25, 25, 25, 26, 26, 26, 26, 26, 26, 26, 26, 26, 26, 27, 27, 27, 27, 27, 27, 27, 27, 27, 27, 28, 28, 28, 28, 28, 28, 28, 28, 28, 28, 29, 29, 29, 29, 29, 29, 29, 29, 29, 29, 30, 30, 30, 30, 30, 30, 30, 30, 30, 30, 31, 31, 31, 31, 31, 31, 31, 31, 31, 31, 32, 32, 32, 32, 32, 32, 32, 32, 32, 32, 33, 33, 33, 33, 33, 33, 33, 33, 33, 33, 34, 34, 34, 34, 34, 34, 34, 34, 34, 34, 35, 35, 35, 35, 35, 35, 35, 35, 35, 35, 36, 36, 36, 36, 36, 36, 36, 36, 36, 36, 37, 37, 37, 37, 37, 37, 37, 37, 37, 37, 38, 38, 38, 38, 38, 38, 38, 38, 38, 38, 39, 39, 39, 39, 39, 39, 39, 39, 39, 39, 40, 40, 40, 40, 40, 40, 40, 40, 40, 40]\n"
     ]
    }
   ],
   "source": [
    "print(labels)"
   ]
  },
  {
   "cell_type": "code",
   "execution_count": 4,
   "id": "2b3ef516",
   "metadata": {},
   "outputs": [],
   "source": [
    "#打乱\n",
    "state = np.random.get_state()\n",
    "np.random.shuffle(data)\n",
    "np.random.set_state(state)\n",
    "np.random.shuffle(labels)"
   ]
  },
  {
   "cell_type": "code",
   "execution_count": 5,
   "id": "43c68b02",
   "metadata": {},
   "outputs": [],
   "source": [
    "X_train,X_test,y_train,y_test = train_test_split(data,labels,test_size=0.1,random_state=10)"
   ]
  },
  {
   "cell_type": "code",
   "execution_count": 6,
   "id": "8d047230",
   "metadata": {},
   "outputs": [],
   "source": [
    "X_train = np.array(X_train)\n",
    "mean = X_train.mean(axis=0)\n",
    "X_train=(X_train-mean)/255\n",
    "U,S,Vt = svd(X_train.T)\n",
    "U=U[:,:60]\n",
    "eigenfaces = U.T @ X_train.T"
   ]
  },
  {
   "cell_type": "code",
   "execution_count": 7,
   "id": "eb6fa1e7",
   "metadata": {},
   "outputs": [
    {
     "name": "stdout",
     "output_type": "stream",
     "text": [
      "[[ 1.46345609 -1.27003415 -9.59844538 ...  9.57017372 -4.6802687\n",
      "  10.88960011]\n",
      " [13.60999621 -2.37683263 -4.70129361 ...  4.24641986 -6.0866825\n",
      "   1.76320974]\n",
      " [ 5.49976222  0.92581832  0.26565026 ...  3.91375102  3.43244805\n",
      "   1.47725193]\n",
      " ...\n",
      " [ 0.32362457 -0.8078479   0.10134874 ... -1.08868984 -0.40478589\n",
      "  -0.3946913 ]\n",
      " [ 0.04586924  0.29977952  0.29477766 ...  0.66295577 -0.64897274\n",
      "   0.45364876]\n",
      " [-0.77940831  0.26569283 -0.11475055 ... -1.11699815  0.19945387\n",
      "  -0.10035675]]\n",
      "(60, 360)\n"
     ]
    }
   ],
   "source": [
    "print(eigenfaces)\n",
    "print(eigenfaces.shape)"
   ]
  },
  {
   "cell_type": "code",
   "execution_count": 8,
   "id": "4aaf856d",
   "metadata": {},
   "outputs": [],
   "source": [
    "from sklearn.neighbors import KNeighborsClassifier"
   ]
  },
  {
   "cell_type": "code",
   "execution_count": 9,
   "id": "1a91c5aa",
   "metadata": {},
   "outputs": [
    {
     "data": {
      "text/plain": [
       "KNeighborsClassifier()"
      ]
     },
     "execution_count": 9,
     "metadata": {},
     "output_type": "execute_result"
    }
   ],
   "source": [
    "knn = KNeighborsClassifier(n_neighbors=5)\n",
    "knn.fit(eigenfaces.T,y_train)"
   ]
  },
  {
   "cell_type": "code",
   "execution_count": 10,
   "id": "f300d439",
   "metadata": {},
   "outputs": [],
   "source": [
    "X_test=np.array(X_test)\n",
    "X_test = (X_test-mean)/255\n",
    "test_eigenfaces=U.T@X_test.T\n",
    "y_pred = knn.predict(test_eigenfaces.T)"
   ]
  },
  {
   "cell_type": "code",
   "execution_count": 11,
   "id": "1eb6de22",
   "metadata": {},
   "outputs": [],
   "source": [
    "from sklearn.metrics import classification_report"
   ]
  },
  {
   "cell_type": "code",
   "execution_count": 12,
   "id": "7fb8ce9c",
   "metadata": {},
   "outputs": [
    {
     "name": "stdout",
     "output_type": "stream",
     "text": [
      "              precision    recall  f1-score   support\n",
      "\n",
      "           1       1.00      1.00      1.00         1\n",
      "           5       1.00      1.00      1.00         1\n",
      "           7       1.00      1.00      1.00         1\n",
      "           8       1.00      1.00      1.00         2\n",
      "           9       1.00      1.00      1.00         3\n",
      "          10       1.00      1.00      1.00         2\n",
      "          12       1.00      1.00      1.00         1\n",
      "          13       1.00      1.00      1.00         2\n",
      "          18       1.00      1.00      1.00         3\n",
      "          19       1.00      1.00      1.00         1\n",
      "          21       1.00      1.00      1.00         1\n",
      "          22       1.00      1.00      1.00         1\n",
      "          23       1.00      0.67      0.80         3\n",
      "          25       1.00      1.00      1.00         1\n",
      "          27       1.00      1.00      1.00         3\n",
      "          28       1.00      1.00      1.00         1\n",
      "          31       1.00      1.00      1.00         1\n",
      "          32       1.00      1.00      1.00         2\n",
      "          34       1.00      1.00      1.00         2\n",
      "          35       1.00      1.00      1.00         1\n",
      "          36       1.00      1.00      1.00         1\n",
      "          37       1.00      1.00      1.00         1\n",
      "          38       0.67      1.00      0.80         2\n",
      "          39       1.00      1.00      1.00         3\n",
      "\n",
      "    accuracy                           0.97        40\n",
      "   macro avg       0.99      0.99      0.98        40\n",
      "weighted avg       0.98      0.97      0.97        40\n",
      "\n",
      "0.975\n"
     ]
    }
   ],
   "source": [
    "print(classification_report(y_test,y_pred))\n",
    "print(metrics.accuracy_score(y_test,y_pred))"
   ]
  },
  {
   "cell_type": "code",
   "execution_count": 13,
   "id": "3cfc2ea7",
   "metadata": {},
   "outputs": [],
   "source": [
    "error_rates=[]\n",
    "for i in range(1,21):\n",
    "    knn_t=KNeighborsClassifier(n_neighbors=i)\n",
    "    knn_t.fit(eigenfaces.T,y_train)\n",
    "    y_pred = knn_t.predict(test_eigenfaces.T)\n",
    "    tt=metrics.accuracy_score(y_test,y_pred)\n",
    "    error_rates.append(tt)"
   ]
  },
  {
   "cell_type": "code",
   "execution_count": 14,
   "id": "dedf9b66",
   "metadata": {},
   "outputs": [
    {
     "data": {
      "image/png": "[encoded data removed]",
      "text/plain": [
       "<Figure size 432x288 with 1 Axes>"
      ]
     },
     "metadata": {
      "needs_background": "light"
     },
     "output_type": "display_data"
    }
   ],
   "source": [
    "k_values=range(1,len(error_rates)+1)\n",
    "plt.plot(k_values,error_rates)\n",
    "plt.xlabel('K Value')\n",
    "plt.ylabel('Error Rate')\n",
    "plt.show()"
   ]
  },
  {
   "cell_type": "code",
   "execution_count": 15,
   "id": "f4b56041",
   "metadata": {},
   "outputs": [],
   "source": [
    "from sklearn.manifold import TSNE\n",
    "tsne = TSNE(n_components=2,random_state=0)\n",
    "X_test_tsne = tsne.fit_transform(X_test)\n",
    "X_train_tsne = tsne.fit_transform(X_train)"
   ]
  },
  {
   "cell_type": "code",
   "execution_count": 16,
   "id": "75fe3bff",
   "metadata": {},
   "outputs": [
    {
     "data": {
      "image/png": "[encoded data removed]",
      "text/plain": [
       "<Figure size 432x288 with 1 Axes>"
      ]
     },
     "metadata": {
      "needs_background": "light"
     },
     "output_type": "display_data"
    }
   ],
   "source": [
    "plt.scatter(X_test_tsne[:,0],X_test_tsne[:,1],c=y_test)\n",
    "plt.show()"
   ]
  },
  {
   "cell_type": "code",
   "execution_count": 17,
   "id": "aef7b66b",
   "metadata": {},
   "outputs": [
    {
     "data": {
      "image/png": "[encoded data removed]",
      "text/plain": [
       "<Figure size 432x288 with 1 Axes>"
      ]
     },
     "metadata": {
      "needs_background": "light"
     },
     "output_type": "display_data"
    }
   ],
   "source": [
    "plt.scatter(X_test_tsne[:,0],X_test_tsne[:,1],c=y_pred)\n",
    "plt.show()"
   ]
  },
  {
   "cell_type": "code",
   "execution_count": 31,
   "id": "894e4fac",
   "metadata": {},
   "outputs": [],
   "source": [
    "import random\n",
    "def generate_points(num_points):\n",
    "    # 平面模型：y = ax + b\n",
    "    a, b = 0.5, 1\n",
    "    # 随机生成x坐标\n",
    "    x = np.random.uniform(-10, 10, size=num_points)\n",
    "    # 计算对应的y坐标\n",
    "    y = a * x + b\n",
    "    # 加入随机噪声\n",
    "    noise = np.random.normal(0, 1, size=num_points)\n",
    "    y += noise\n",
    "    # 返回点集\n",
    "    return np.column_stack((x, y))\n",
    "def ransac_line_fit(data, n, k, t, d):\n",
    "    \"\"\"\n",
    "    使用 RANSAC 算法拟合二维平面上的直线\n",
    "\n",
    "    :param data: 数据集，每个数据点为 [x, y] 的形式\n",
    "    :param n: 随机抽样的数据点数目\n",
    "    :param k: 最大迭代次数\n",
    "    :param t: 判定模型是否适合的阈值\n",
    "    :param d: 选出的内点数目达到该值则认为模型适合\n",
    "    :return: 直线斜率和截距\n",
    "    \"\"\"\n",
    "\n",
    "    bestfit = None\n",
    "    besterr = np.inf\n",
    "\n",
    "    for i in range(k):\n",
    "        # 随机选择n个数据点\n",
    "        sample = random.sample(list(data), n)\n",
    "\n",
    "        # 拟合直线\n",
    "        x1, y1 = sample[0]\n",
    "        x2, y2 = sample[1]\n",
    "        if x2 == x1:\n",
    "            continue\n",
    "        k_estimate = (y2 - y1) / (x2 - x1)\n",
    "        b_estimate = y1 - k_estimate * x1\n",
    "        \n",
    "        # 计算误差\n",
    "        errors = []\n",
    "        for j in range(len(data)):\n",
    "            x, y = data[j]\n",
    "            if x2 == x1:\n",
    "                continue\n",
    "            distance = abs((y - y1) - k_estimate * (x - x1)) / np.sqrt(1 + k_estimate**2)\n",
    "            errors.append(distance)\n",
    "\n",
    "        # 找到内点\n",
    "        inliers = np.array([data[j] for j in range(len(errors)) if errors[j] < t])\n",
    "\n",
    "        # 如果内点数目大于阈值d，重新拟合模型\n",
    "        if len(inliers) >= d:\n",
    "            x_inliers = inliers[:, 0]\n",
    "            y_inliers = inliers[:, 1]\n",
    "            k_inliers, b_inliers = np.polyfit(x_inliers, y_inliers, 1)\n",
    "            errors = []\n",
    "            for j in range(len(data)):\n",
    "                x, y = data[j]\n",
    "                distance = abs((y - b_inliers) - k_inliers * x) / np.sqrt(1 + k_inliers**2)\n",
    "                errors.append(distance)\n",
    "\n",
    "            # 更新最佳模型\n",
    "            mean_error = np.mean(errors)\n",
    "            if mean_error < besterr:\n",
    "                bestfit = (k_inliers, b_inliers)\n",
    "                besterr = mean_error\n",
    "\n",
    "    return bestfit"
   ]
  },
  {
   "cell_type": "code",
   "execution_count": 32,
   "id": "d0b81753",
   "metadata": {},
   "outputs": [
    {
     "data": {
      "image/png": "[encoded data removed]",
      "text/plain": [
       "<Figure size 432x288 with 1 Axes>"
      ]
     },
     "metadata": {
      "needs_background": "light"
     },
     "output_type": "display_data"
    }
   ],
   "source": [
    "tt_1=generate_points(100)\n",
    "plt.scatter(tt_1[:,0],tt_1[:,1],s=5)\n",
    "plt.show()"
   ]
  },
  {
   "cell_type": "code",
   "execution_count": 40,
   "id": "7777c71d",
   "metadata": {},
   "outputs": [
    {
     "name": "stdout",
     "output_type": "stream",
     "text": [
      "拟合的直线方程为y=0.46*x+1.26\n"
     ]
    }
   ],
   "source": [
    "k,b=ransac_line_fit(tt_1,n=5,k=300, t=5,d=70)\n",
    "print(\"拟合的直线方程为y={:.2f}*x+{:.2f}\".format(k,b))"
   ]
  },
  {
   "cell_type": "code",
   "execution_count": 41,
   "id": "56dbfcd2",
   "metadata": {},
   "outputs": [
    {
     "data": {
      "image/png": "[encoded data removed]",
      "text/plain": [
       "<Figure size 432x288 with 1 Axes>"
      ]
     },
     "metadata": {
      "needs_background": "light"
     },
     "output_type": "display_data"
    }
   ],
   "source": [
    "plt.scatter(tt_1[:,0],tt_1[:,1],s=5)\n",
    "x_fit=np.linspace(-10,10,5)\n",
    "y_fit=k*x_fit+b\n",
    "plt.plot(x_fit,y_fit,color='r',linewidth=2)\n",
    "plt.show()"
   ]
  },
  {
   "cell_type": "code",
   "execution_count": null,
   "id": "aa70aba4",
   "metadata": {},
   "outputs": [],
   "source": []
  }
 ],
 "metadata": {
  "kernelspec": {
   "display_name": "Python 3",
   "language": "python",
   "name": "python3"
  },
  "language_info": {
   "codemirror_mode": {
    "name": "ipython",
    "version": 3
   },
   "file_extension": ".py",
   "mimetype": "text/x-python",
   "name": "python",
   "nbconvert_exporter": "python",
   "pygments_lexer": "ipython3",
   "version": "3.6.13"
  },
  "toc": {
   "base_numbering": 1,
   "nav_menu": {},
   "number_sections": true,
   "sideBar": true,
   "skip_h1_title": false,
   "title_cell": "Table of Contents",
   "title_sidebar": "Contents",
   "toc_cell": false,
   "toc_position": {},
   "toc_section_display": true,
   "toc_window_display": false
  }
 },
 "nbformat": 4,
 "nbformat_minor": 5
}
