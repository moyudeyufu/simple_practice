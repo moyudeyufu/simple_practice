{
 "cells": [
  {
   "cell_type": "code",
   "execution_count": 5,
   "id": "627cc1e9",
   "metadata": {},
   "outputs": [],
   "source": [
    "import cv2\n",
    "import numpy as np\n",
    "import math\n",
    "import matplotlib.pyplot as plt\n",
    "img = cv2.imread('D:/test_pic/1.jpg',1)"
   ]
  },
  {
   "cell_type": "code",
   "execution_count": 7,
   "id": "7b3b1bcb",
   "metadata": {},
   "outputs": [],
   "source": [
    "# 定义变换矩阵\n",
    "scale_x = 0.5\n",
    "scale_y = 0.5\n",
    "theta = 30 * np.pi / 180\n",
    "tx = 0\n",
    "ty = 0\n",
    "rotation_matrix = np.array([\n",
    "    [np.cos(theta), -np.sin(theta)],\n",
    "    [np.sin(theta), np.cos(theta)]\n",
    "])\n",
    "scaling_matrix = np.array([\n",
    "    [scale_x, 0],\n",
    "    [0, scale_y]\n",
    "])\n",
    "transform_matrix = scaling_matrix.dot(rotation_matrix)\n",
    "\n",
    "# 构造仿射变换矩阵\n",
    "affine_matrix = np.zeros((3, 3))\n",
    "affine_matrix[:2, :2] = transform_matrix\n",
    "affine_matrix[2, 2] = 1\n",
    "affine_matrix[0, 2] = tx\n",
    "affine_matrix[1, 2] = ty\n",
    "\n",
    "# 对图像进行变换\n",
    "rows, cols, _ = img.shape\n",
    "rows = math.ceil(rows*scale_x)\n",
    "cols = math.ceil(cols*scale_y)\n",
    "#new_img = cv2.warpAffine(img, affine_matrix, (cols, rows))"
   ]
  },
  {
   "cell_type": "code",
   "execution_count": 9,
   "id": "55e12b71",
   "metadata": {},
   "outputs": [
    {
     "data": {
      "text/plain": [
       "-1"
      ]
     },
     "execution_count": 9,
     "metadata": {},
     "output_type": "execute_result"
    }
   ],
   "source": [
    "resized_img = cv2.resize(img,None,fx=0.5,fy=0.7,interpolation = cv2.INTER_LINEAR)\n",
    "cv2.imshow('1',resized_img)\n",
    "cv2.waitKey(0)"
   ]
  },
  {
   "cell_type": "code",
   "execution_count": null,
   "id": "81e0aafa",
   "metadata": {},
   "outputs": [],
   "source": []
  }
 ],
 "metadata": {
  "kernelspec": {
   "display_name": "Python 3",
   "language": "python",
   "name": "python3"
  },
  "language_info": {
   "codemirror_mode": {
    "name": "ipython",
    "version": 3
   },
   "file_extension": ".py",
   "mimetype": "text/x-python",
   "name": "python",
   "nbconvert_exporter": "python",
   "pygments_lexer": "ipython3",
   "version": "3.6.13"
  },
  "toc": {
   "base_numbering": 1,
   "nav_menu": {},
   "number_sections": true,
   "sideBar": true,
   "skip_h1_title": false,
   "title_cell": "Table of Contents",
   "title_sidebar": "Contents",
   "toc_cell": false,
   "toc_position": {},
   "toc_section_display": true,
   "toc_window_display": false
  }
 },
 "nbformat": 4,
 "nbformat_minor": 5
}
