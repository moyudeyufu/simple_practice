{
 "cells": [
  {
   "cell_type": "code",
   "execution_count": 1,
   "id": "19c507e1",
   "metadata": {},
   "outputs": [],
   "source": [
    "import cv2"
   ]
  },
  {
   "cell_type": "code",
   "execution_count": 2,
   "id": "ae266f10",
   "metadata": {},
   "outputs": [],
   "source": [
    "def cv_show(name,img):\n",
    "    cv2.imshow(name,img)\n",
    "    cv2.waitKey(0)\n",
    "    cv2.destroyAllWindows()"
   ]
  },
  {
   "cell_type": "code",
   "execution_count": 3,
   "id": "4d5bdc88",
   "metadata": {},
   "outputs": [],
   "source": [
    "path = 'D:/test_pic/2.jpg'\n",
    "imag = cv2.imread(path)"
   ]
  },
  {
   "cell_type": "code",
   "execution_count": 4,
   "id": "5c495755",
   "metadata": {},
   "outputs": [],
   "source": [
    "#沿x方向边缘检测\n",
    "img1 = cv2.Sobel(imag,cv2.CV_64F,1,0)\n",
    "sobelx = cv2.convertScaleAbs(img1)"
   ]
  },
  {
   "cell_type": "code",
   "execution_count": 11,
   "id": "68fe47a0",
   "metadata": {},
   "outputs": [],
   "source": [
    "cv_show('img1',img1)\n",
    "cv_show('sobelx',sobelx)"
   ]
  },
  {
   "cell_type": "code",
   "execution_count": null,
   "id": "57f4d736",
   "metadata": {},
   "outputs": [],
   "source": []
  },
  {
   "cell_type": "code",
   "execution_count": 6,
   "id": "1633c6d3",
   "metadata": {},
   "outputs": [],
   "source": [
    "#沿着y方向边缘检测\n",
    "img2 = cv2.Sobel(imag,cv2.CV_64F,0,1)\n",
    "sobely = cv2.convertScaleAbs(img2)"
   ]
  },
  {
   "cell_type": "code",
   "execution_count": 12,
   "id": "1c971242",
   "metadata": {},
   "outputs": [],
   "source": [
    "cv_show('img2',img2)\n",
    "cv_show('sobely',sobely)"
   ]
  },
  {
   "cell_type": "code",
   "execution_count": 8,
   "id": "a8c4ca50",
   "metadata": {},
   "outputs": [],
   "source": [
    "#同时对x和y方向进行检测\n",
    "img3 = cv2.Sobel(imag,cv2.CV_64F,1,1)\n",
    "sobelxy = cv2.convertScaleAbs(img3)"
   ]
  },
  {
   "cell_type": "code",
   "execution_count": 13,
   "id": "6dbdb443",
   "metadata": {},
   "outputs": [],
   "source": [
    "cv_show('img3',img3)\n",
    "cv_show('sobelxy',sobelxy)"
   ]
  },
  {
   "cell_type": "code",
   "execution_count": null,
   "id": "b2c704d4",
   "metadata": {},
   "outputs": [],
   "source": [
    "#分别检测后合成\n",
    "sobelx_y = cv2.addWeighted(sobelx,0.5,sobely,0.5,0)\n",
    "cv_show('sobelx_y',sobelx_y)"
   ]
  },
  {
   "cell_type": "code",
   "execution_count": null,
   "id": "692e57eb",
   "metadata": {},
   "outputs": [],
   "source": []
  }
 ],
 "metadata": {
  "kernelspec": {
   "display_name": "Python 3",
   "language": "python",
   "name": "python3"
  },
  "language_info": {
   "codemirror_mode": {
    "name": "ipython",
    "version": 3
   },
   "file_extension": ".py",
   "mimetype": "text/x-python",
   "name": "python",
   "nbconvert_exporter": "python",
   "pygments_lexer": "ipython3",
   "version": "3.6.13"
  },
  "toc": {
   "base_numbering": 1,
   "nav_menu": {},
   "number_sections": true,
   "sideBar": true,
   "skip_h1_title": false,
   "title_cell": "Table of Contents",
   "title_sidebar": "Contents",
   "toc_cell": false,
   "toc_position": {},
   "toc_section_display": true,
   "toc_window_display": false
  }
 },
 "nbformat": 4,
 "nbformat_minor": 5
}
