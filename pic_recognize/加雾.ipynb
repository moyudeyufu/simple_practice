{
 "cells": [
  {
   "cell_type": "code",
   "execution_count": 4,
   "id": "a2f53458",
   "metadata": {},
   "outputs": [],
   "source": [
    "import numpy as np\n",
    "import cv2\n",
    "import os\n",
    "import random"
   ]
  },
  {
   "cell_type": "code",
   "execution_count": 8,
   "id": "9b0618ef",
   "metadata": {},
   "outputs": [
    {
     "name": "stdout",
     "output_type": "stream",
     "text": [
      "(720, 720, 3)\n",
      "(720, 720, 3)\n"
     ]
    }
   ],
   "source": [
    "path='D:/test_pic/2.jpg'\n",
    "imag=cv2.imread(path,1)\n",
    "mask_img = cv2.imread(path,1)\n",
    "mask_img[:,:] = (166,178,180)\n",
    "print(imag.shape)\n",
    "print(mask_img.shape)"
   ]
  },
  {
   "cell_type": "code",
   "execution_count": 11,
   "id": "292c7373",
   "metadata": {},
   "outputs": [],
   "source": [
    "image = cv2.addWeighted(imag,round(random.uniform(0.03,0.28),2),mask_img,0.5,0)"
   ]
  },
  {
   "cell_type": "code",
   "execution_count": 12,
   "id": "fe744938",
   "metadata": {},
   "outputs": [],
   "source": [
    "cv2.imshow('haze_image',image)\n",
    "cv2.waitKey(0)\n",
    "cv2.destroyAllWindows()"
   ]
  },
  {
   "cell_type": "code",
   "execution_count": 14,
   "id": "e25270c3",
   "metadata": {},
   "outputs": [
    {
     "data": {
      "text/plain": [
       "True"
      ]
     },
     "execution_count": 14,
     "metadata": {},
     "output_type": "execute_result"
    }
   ],
   "source": [
    "cv.imwrite('D:/test_pic/7.jpg',image)"
   ]
  },
  {
   "cell_type": "code",
   "execution_count": null,
   "id": "4291f807",
   "metadata": {},
   "outputs": [],
   "source": []
  }
 ],
 "metadata": {
  "kernelspec": {
   "display_name": "Python 3",
   "language": "python",
   "name": "python3"
  },
  "language_info": {
   "codemirror_mode": {
    "name": "ipython",
    "version": 3
   },
   "file_extension": ".py",
   "mimetype": "text/x-python",
   "name": "python",
   "nbconvert_exporter": "python",
   "pygments_lexer": "ipython3",
   "version": "3.6.13"
  }
 },
 "nbformat": 4,
 "nbformat_minor": 5
}
