{
 "cells": [
  {
   "cell_type": "code",
   "execution_count": 1,
   "id": "c938e5b2",
   "metadata": {},
   "outputs": [],
   "source": [
    "import os\n",
    "import struct\n",
    "import numpy as np\n",
    "import cv2\n",
    "import torch\n",
    "from torchvision.datasets import MNIST\n",
    "from torch.utils.data import DataLoader\n",
    "from sklearn.metrics import accuracy_score\n",
    "\n",
    "# load MNIST data from PyTorch\n",
    "train_data = MNIST('C:\\\\Users\\\\bkkj\\\\minist\\\\', train=True, download=True)\n",
    "test_data = MNIST('C:\\\\Users\\\\bkkj\\\\minist\\\\', train=False, download=True)\n",
    "\n",
    "# convert data to numpy arrays\n",
    "X_train = train_data.data.numpy().reshape(-1, 784) / 255.0\n",
    "y_train = train_data.targets.numpy()\n",
    "X_test = test_data.data.numpy().reshape(-1, 784) / 255.0\n",
    "y_test = test_data.targets.numpy()"
   ]
  },
  {
   "cell_type": "code",
   "execution_count": 2,
   "id": "e97eb7ca",
   "metadata": {},
   "outputs": [],
   "source": [
    "from sklearn.model_selection import train_test_split\n",
    "tra_img, val_img,tra_L, val_L=train_test_split(X_train,y_train,test_size=0.7,random_state=0)"
   ]
  },
  {
   "cell_type": "code",
   "execution_count": 3,
   "id": "3a35a249",
   "metadata": {},
   "outputs": [],
   "source": [
    "from scipy import ndimage\n",
    "\n",
    "def normalize_blocks(blocks):\n",
    "    eps = 1e-5\n",
    "    for i in range(len(blocks)):\n",
    "        norm = np.sqrt(np.sum(blocks[i]**2) + eps**2)\n",
    "        blocks[i] /= norm\n",
    "    return blocks\n",
    "\n",
    "def extract_hog_features(image, cell_size=(8, 8), block_size=(2, 2), nbins=9):\n",
    "    # 计算图像梯度\n",
    "    gx = ndimage.sobel(image, axis=1, mode='reflect')\n",
    "    gy = ndimage.sobel(image, axis=0, mode='reflect')\n",
    "    mag = np.sqrt(gx**2 + gy**2)  # 梯度幅值\n",
    "    ori = np.arctan2(gy, (gx + 1e-6)) * (180 / np.pi) + 90  # 梯度方向\n",
    "    \n",
    "    # 将梯度方向划分到nbins个bin中\n",
    "    bin = np.int32(nbins * ori / 180.0)\n",
    "    \n",
    "    # 根据cell_size计算图像中的cell数量\n",
    "    cells_per_block_x = int(image.shape[1] // cell_size[1])\n",
    "    cells_per_block_y = int(image.shape[0] // cell_size[0])\n",
    "    \n",
    "    # 分割图像为若干个cell\n",
    "    cells = [np.zeros((cell_size[0], cell_size[1], nbins)) for i in range(cells_per_block_x * cells_per_block_y)]\n",
    "    for i in range(cells_per_block_y):\n",
    "        for j in range(cells_per_block_x):\n",
    "            cell_m = mag[i * cell_size[0]: (i+1) * cell_size[0], j * cell_size[1]: (j+1) * cell_size[1]]\n",
    "            cell_o = bin[i * cell_size[0]: (i+1) * cell_size[0], j * cell_size[1]: (j+1) * cell_size[1]]\n",
    "            for k in range(nbins):\n",
    "                cells[i*cells_per_block_x + j][:,:,k] = np.sum(cell_m * (cell_o == k), axis=(0,1))\n",
    "    \n",
    "    # 将多个cell组合成一个block，并进行归一化\n",
    "    blocks = []\n",
    "    for i in range(cells_per_block_y - block_size[0] + 1):\n",
    "        for j in range(cells_per_block_x - block_size[1] + 1):\n",
    "            block = np.zeros((block_size[0]*cell_size[0], block_size[1]*cell_size[1], nbins))\n",
    "            for kx in range(block_size[0]):\n",
    "                for ky in range(block_size[1]):\n",
    "                    block[kx * cell_size[0]: (kx+1)*cell_size[0], ky * cell_size[1]: (ky+1)*cell_size[1], :] = cells[(i+kx)*cells_per_block_x + j+ky]\n",
    "            blocks.append(block)\n",
    "    \n",
    "    blocks = normalize_blocks(blocks)\n",
    "    \n",
    "    # 将多个block串联起来，形成最终的HOG特征向量\n",
    "    hog_features = np.concatenate(blocks, axis=0).ravel()\n",
    "    return hog_features"
   ]
  },
  {
   "cell_type": "code",
   "execution_count": 4,
   "id": "c12fcdc7",
   "metadata": {},
   "outputs": [],
   "source": [
    "class SVM:\n",
    "    def __init__(self, lr=0.01, epochs=100):\n",
    "        self.lr = lr\n",
    "        self.epochs = epochs\n",
    "        \n",
    "    def fit(self, X, y):\n",
    "        self.w = np.zeros(X.shape[1])\n",
    "        self.b = 0\n",
    "        for epoch in range(self.epochs):\n",
    "            for i, x in enumerate(X):\n",
    "                if y[i] * (np.dot(x, self.w) - self.b) >= 1:\n",
    "                    self.w -= self.lr * (2 * 1/self.epochs * self.w)\n",
    "                else:\n",
    "                    self.w -= self.lr * (2 * 1/self.epochs * self.w - np.dot(x, y[i]))\n",
    "                    self.b -= self.lr * y[i]\n",
    "    def predict(self, X):\n",
    "        return np.sign(np.dot(X, self.w) - self.b)"
   ]
  },
  {
   "cell_type": "code",
   "execution_count": 5,
   "id": "f41ea568",
   "metadata": {},
   "outputs": [],
   "source": [
    "X_train_hog = []\n",
    "for imge in val_img:\n",
    "    hog_feat = extract_hog_features(imge.reshape((28,28)))\n",
    "    X_train_hog.append(hog_feat)\n",
    "X_train_hog = np.array(X_train_hog)"
   ]
  },
  {
   "cell_type": "code",
   "execution_count": 6,
   "id": "c81ea639",
   "metadata": {},
   "outputs": [],
   "source": [
    "clf = SVM()\n",
    "clf.fit(X_train_hog,val_L)"
   ]
  },
  {
   "cell_type": "code",
   "execution_count": 7,
   "id": "514edd85",
   "metadata": {},
   "outputs": [],
   "source": [
    "X_test_hog = []\n",
    "for imge in X_test:\n",
    "    hog_feat = extract_hog_features(imge.reshape((28,28)))\n",
    "    X_test_hog.append(hog_feat)\n",
    "X_test_hog = np.array(X_test_hog)"
   ]
  },
  {
   "cell_type": "code",
   "execution_count": 8,
   "id": "96717fa6",
   "metadata": {},
   "outputs": [],
   "source": [
    "y_pre = clf.predict(X_test_hog)"
   ]
  },
  {
   "cell_type": "code",
   "execution_count": 9,
   "id": "41938538",
   "metadata": {},
   "outputs": [
    {
     "name": "stdout",
     "output_type": "stream",
     "text": [
      "0.1135\n"
     ]
    }
   ],
   "source": [
    "acc = np.mean(y_pre==y_test)\n",
    "print(acc)"
   ]
  },
  {
   "cell_type": "code",
   "execution_count": null,
   "id": "722f933b",
   "metadata": {},
   "outputs": [],
   "source": []
  }
 ],
 "metadata": {
  "kernelspec": {
   "display_name": "Python 3",
   "language": "python",
   "name": "python3"
  },
  "language_info": {
   "codemirror_mode": {
    "name": "ipython",
    "version": 3
   },
   "file_extension": ".py",
   "mimetype": "text/x-python",
   "name": "python",
   "nbconvert_exporter": "python",
   "pygments_lexer": "ipython3",
   "version": "3.6.13"
  },
  "toc": {
   "base_numbering": 1,
   "nav_menu": {},
   "number_sections": true,
   "sideBar": true,
   "skip_h1_title": false,
   "title_cell": "Table of Contents",
   "title_sidebar": "Contents",
   "toc_cell": false,
   "toc_position": {},
   "toc_section_display": true,
   "toc_window_display": false
  }
 },
 "nbformat": 4,
 "nbformat_minor": 5
}
