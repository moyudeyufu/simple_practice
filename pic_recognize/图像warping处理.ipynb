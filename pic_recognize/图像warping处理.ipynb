{
 "cells": [
  {
   "cell_type": "code",
   "execution_count": 1,
   "id": "35dae68f",
   "metadata": {},
   "outputs": [],
   "source": [
    "import cv2\n",
    "import numpy as np"
   ]
  },
  {
   "cell_type": "code",
   "execution_count": 2,
   "id": "0ab3909d",
   "metadata": {},
   "outputs": [
    {
     "data": {
      "text/plain": [
       "-1"
      ]
     },
     "execution_count": 2,
     "metadata": {},
     "output_type": "execute_result"
    }
   ],
   "source": [
    "img = cv2.imread('D:/test_pic/1.jpg',1)\n",
    "cv2.imshow('original',img)\n",
    "cv2.waitKey(0)"
   ]
  },
  {
   "cell_type": "code",
   "execution_count": 3,
   "id": "d5c05d7d",
   "metadata": {},
   "outputs": [],
   "source": [
    "def pinyi_warp_1(img ,tx, ty):#tx,ty-->平移距离\n",
    "    h, w, c= img.shape\n",
    "    M=np.float32([[1,0,tx],[0,1,ty]])\n",
    "    new_img = np.zeros_like(img)\n",
    "    for y in range(h):\n",
    "        for x in range(w):\n",
    "            src_pos = np.array([x,y,1])\n",
    "            dst_pos = np.dot(M,src_pos)\n",
    "            dst_x,dst_y = int(dst_pos[0]),int(dst_pos[1])\n",
    "            if dst_x<0 or dst_x>=w or dst_y <0 or dst_y>=h:\n",
    "                continue\n",
    "            new_img[dst_y,dst_x] = img[y,x]\n",
    "    return new_img"
   ]
  },
  {
   "cell_type": "code",
   "execution_count": 4,
   "id": "5f838116",
   "metadata": {},
   "outputs": [
    {
     "data": {
      "text/plain": [
       "-1"
      ]
     },
     "execution_count": 4,
     "metadata": {},
     "output_type": "execute_result"
    }
   ],
   "source": [
    "new_img = pinyi_warp_1(img,130,-80)\n",
    "cv2.imshow('new',new_img)\n",
    "cv2.waitKey(0)\n",
    "#cv2.destroyAllWindows()"
   ]
  },
  {
   "cell_type": "code",
   "execution_count": 5,
   "id": "f82ad324",
   "metadata": {},
   "outputs": [],
   "source": [
    "import math\n",
    "def rotate_warp_1(img,angle):#angle直接输入想要的角度值即可，不必考虑弧度值\n",
    "    h, w, c= img.shape\n",
    "    center = (w//2,h//2)\n",
    "    angle = math.radians(angle)\n",
    "    cos_angle = math.cos(angle)\n",
    "    sin_angle = math.sin(angle)\n",
    "    M = np.array([[cos_angle,-sin_angle,0],[sin_angle,cos_angle,0],[0,0,1]])\n",
    "    #调整平移部分\n",
    "    t = np.array([[1,0,center[0]],[0,1,center[1]],[0,0,1]])\n",
    "    t_inv = np.linalg.inv(t)\n",
    "    M = np.dot(np.dot(t,M),t_inv)\n",
    "    new_w = int((h*sin_angle)+(w*cos_angle))\n",
    "    new_h = int((h*cos_angle)+(w*sin_angle))\n",
    "    #调整旋转矩阵中的平移部分\n",
    "    M[0,2]+=new_w/2 - center[0]\n",
    "    M[1,2]+=new_h/2-center[1]\n",
    "    new_img = np.zeros((new_h,new_w,img.shape[2]),dtype = np.uint8)\n",
    "    for y in range(h):\n",
    "        for x in range(w):\n",
    "            src_pos = np.array([x,y,1])\n",
    "            dst_pos = np.dot(M,src_pos)\n",
    "            dst_x,dst_y = int(dst_pos[0]),int(dst_pos[1])\n",
    "            if dst_x<0 or dst_x>=new_w or dst_y <0 or dst_y>=new_h:\n",
    "                continue\n",
    "            new_img[dst_y,dst_x] = img[y,x]\n",
    "    return new_img"
   ]
  },
  {
   "cell_type": "code",
   "execution_count": 6,
   "id": "3f1782ad",
   "metadata": {},
   "outputs": [
    {
     "data": {
      "text/plain": [
       "-1"
      ]
     },
     "execution_count": 6,
     "metadata": {},
     "output_type": "execute_result"
    }
   ],
   "source": [
    "new_img = rotate_warp_1(img,45)\n",
    "cv2.imshow('new',new_img)\n",
    "cv2.waitKey(0)"
   ]
  },
  {
   "cell_type": "code",
   "execution_count": 7,
   "id": "c77eead1",
   "metadata": {},
   "outputs": [
    {
     "data": {
      "text/plain": [
       "-1"
      ]
     },
     "execution_count": 7,
     "metadata": {},
     "output_type": "execute_result"
    }
   ],
   "source": [
    "#滤一下，去除黑点\n",
    "new_img_m = cv2.medianBlur(new_img,3)\n",
    "cv2.imshow('new',new_img_m)\n",
    "cv2.waitKey(0)"
   ]
  },
  {
   "cell_type": "code",
   "execution_count": 8,
   "id": "0e5b6e8e",
   "metadata": {},
   "outputs": [],
   "source": [
    "import math\n",
    "def resize_image_1(img,scale_p):\n",
    "    h, w, c= img.shape\n",
    "    new_w = int(w*scale_p/100)\n",
    "    new_h = int(h*scale_p/100)\n",
    "    new_imag = np.zeros((new_h,new_w,3),np.uint8)\n",
    "    #计算缩放比例\n",
    "    x_scale = float(img.shape[1]-1)/(new_w-1)\n",
    "    y_scale = float(img.shape[0]-1)/(new_h-1)\n",
    "    #双线性插值\n",
    "    for i in range(new_h):\n",
    "        for j in range(new_w):\n",
    "            x=j*x_scale\n",
    "            y=i*y_scale\n",
    "            x1=int(x)\n",
    "            y1=int(y)\n",
    "            x2=min(x1+1,img.shape[1]-1)\n",
    "            y2=min(y1+1,img.shape[0]-1)\n",
    "            dx1=x-x1\n",
    "            dy1=y-y1\n",
    "            dx2=1-dx1\n",
    "            dy2=1-dy1\n",
    "            b1,g1,r1=img[y1,x1]\n",
    "            b2,g2,r2=img[y1,x2]\n",
    "            b3,g3,r3=img[y2,x1]\n",
    "            b4,g4,r4=img[y2,x2]\n",
    "            blue = int(b1*dx2*dy2+b2*dx1*dy2+b3*dx2*dy1+b4*dx1*dy1)\n",
    "            green = int(g1*dx2*dy2+g2*dx1*dy2+g3*dx2*dy1+g4*dx1*dy1)\n",
    "            red = int(r1*dx2*dy2+r2*dx1*dy2+r3*dx2*dy1+r4*dx1*dy1)\n",
    "            new_imag[i,j] = [blue,green,red]\n",
    "    return new_imag\n",
    "def resize_image_2(img,scale_p):\n",
    "    h, w, c= img.shape\n",
    "    #直接转换不太行，改成了向上取整会好很多\n",
    "    new_w = math.ceil(w*scale_p/100)\n",
    "    new_h = math.ceil(h*scale_p/100)\n",
    "    Sx=Sy=scale_p/100\n",
    "    M=np.float32([[Sx,0,0],[0,Sy,0]])\n",
    "    new_imag = np.zeros((new_h,new_w,3),np.uint8)\n",
    "    for y in range(h):\n",
    "        for x in range(w):\n",
    "            o_p = np.array([x,y,1])\n",
    "            new_point = M.dot(o_p)\n",
    "            new_x,new_y = int(new_point[0]),int(new_point[1])\n",
    "            if new_x<img.shape[1] and new_y <img.shape[0]:\n",
    "                new_imag[new_y,new_x] = img[y,x]\n",
    "    return new_imag"
   ]
  },
  {
   "cell_type": "code",
   "execution_count": 9,
   "id": "b0d20a74",
   "metadata": {},
   "outputs": [
    {
     "data": {
      "text/plain": [
       "-1"
      ]
     },
     "execution_count": 9,
     "metadata": {},
     "output_type": "execute_result"
    }
   ],
   "source": [
    "new_imge = resize_image_2(img,60)\n",
    "cv2.imshow('new',new_imge)\n",
    "cv2.waitKey(0)"
   ]
  },
  {
   "cell_type": "code",
   "execution_count": 10,
   "id": "7d808e55",
   "metadata": {},
   "outputs": [],
   "source": [
    "def shear_img(img,theta1,theta2):\n",
    "    h, w, c= img.shape\n",
    "    t1 = math.radians(theta1)\n",
    "    t2 = math.radians(theta2)\n",
    "    shx = math.tan(t1)\n",
    "    shy = math.tan(t2)\n",
    "    #矩阵\n",
    "    M = np.float32([[1,shx,0],[shy,1,0],[0,0,1]])\n",
    "    new_w = int(w+abs(shx)*h)\n",
    "    new_h = int(h+abs(shy)*w)\n",
    "    new_img = np.zeros((new_h,new_w,3),dtype = np.uint8)\n",
    "    for y in range(h):\n",
    "        for x in range(w):\n",
    "            o_p=np.array([x,y,1])\n",
    "            dst_p = M.dot(o_p)\n",
    "            new_x,new_y = int(dst_p[0]),int(dst_p[1])\n",
    "            if 0<=new_x<new_w and 0<=new_y<new_h:\n",
    "                new_img[new_y,new_x] = img[y,x]\n",
    "    return new_img"
   ]
  },
  {
   "cell_type": "code",
   "execution_count": 11,
   "id": "c827382a",
   "metadata": {},
   "outputs": [
    {
     "data": {
      "text/plain": [
       "-1"
      ]
     },
     "execution_count": 11,
     "metadata": {},
     "output_type": "execute_result"
    }
   ],
   "source": [
    "new_imge = shear_img(img,30,15)\n",
    "cv2.imshow('new',new_imge)\n",
    "cv2.waitKey(0)"
   ]
  },
  {
   "cell_type": "code",
   "execution_count": 12,
   "id": "990479b0",
   "metadata": {},
   "outputs": [],
   "source": [
    "def perspect_img(img,src,dst):\n",
    "    h, w, c= img.shape\n",
    "    #计算透视变换矩阵\n",
    "    A = np.zeros((8,9))\n",
    "    for i in range(4):\n",
    "        x,y = src[i]\n",
    "        u,v = dst[i]\n",
    "        A[2*i] = [-x,-y,-1,0,0,0,u*x,u*y,u]\n",
    "        A[2*i+1] = [0,0,0,-x,-y,-1,v*x,v*y,v]\n",
    "    U, S, V = np.linalg.svd(A)\n",
    "    H = V[-1,:].reshape((3,3))\n",
    "    new_img = np.zeros((h,w,3),dtype = np.uint8)\n",
    "    for y in range(h):\n",
    "        for x in range(w):\n",
    "            o_p = np.array([x,y,1])\n",
    "            new_p = H.dot(o_p)\n",
    "            new_x,new_y,z= new_p/new_p[2]\n",
    "            if 0<=new_x<w and 0<=new_y<h:\n",
    "                new_img[int(new_y),int(new_x)] = img[y,x]\n",
    "    return new_img"
   ]
  },
  {
   "cell_type": "code",
   "execution_count": null,
   "id": "cfdb82b3",
   "metadata": {},
   "outputs": [],
   "source": [
    "#四个点从左上后=的点开始，顺时针旋转\n",
    "src_points = np.float32([[200,450],[550,450],[450,200],[200,200]])\n",
    "dst_points = np.float32([[300,200],[500,200],[500,100],[300,100]])\n",
    "new_img = perspect_img(img,src_points,dst_points)\n",
    "cv2.imshow('new',new_img)\n",
    "cv2.waitKey(0)"
   ]
  },
  {
   "cell_type": "code",
   "execution_count": null,
   "id": "0a4e25f7",
   "metadata": {},
   "outputs": [],
   "source": []
  }
 ],
 "metadata": {
  "kernelspec": {
   "display_name": "Python 3",
   "language": "python",
   "name": "python3"
  },
  "language_info": {
   "codemirror_mode": {
    "name": "ipython",
    "version": 3
   },
   "file_extension": ".py",
   "mimetype": "text/x-python",
   "name": "python",
   "nbconvert_exporter": "python",
   "pygments_lexer": "ipython3",
   "version": "3.6.13"
  },
  "toc": {
   "base_numbering": 1,
   "nav_menu": {},
   "number_sections": true,
   "sideBar": true,
   "skip_h1_title": false,
   "title_cell": "Table of Contents",
   "title_sidebar": "Contents",
   "toc_cell": false,
   "toc_position": {},
   "toc_section_display": true,
   "toc_window_display": false
  }
 },
 "nbformat": 4,
 "nbformat_minor": 5
}
