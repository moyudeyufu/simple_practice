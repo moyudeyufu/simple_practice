{
 "cells": [
  {
   "cell_type": "code",
   "execution_count": 1,
   "id": "42c03521",
   "metadata": {},
   "outputs": [],
   "source": [
    "import cv2\n",
    "\n",
    "img = cv2.imread(\"D:/test_pic/2.jpg\")\n",
    "img = cv2.rotate(img,cv2.ROTATE_90_CLOCKWISE)"
   ]
  },
  {
   "cell_type": "code",
   "execution_count": 2,
   "id": "e1448c29",
   "metadata": {},
   "outputs": [
    {
     "data": {
      "text/plain": [
       "True"
      ]
     },
     "execution_count": 2,
     "metadata": {},
     "output_type": "execute_result"
    }
   ],
   "source": [
    "import numpy as np\n",
    "\n",
    "# 放大的尺寸\n",
    "new_width, new_height = (img.shape[1] + 10), (img.shape[0] + 5)\n",
    "\n",
    "# 转换为灰度图像\n",
    "gray_img = cv2.cvtColor(img, cv2.COLOR_BGR2GRAY)\n",
    "\n",
    "# 计算能量值函数（梯度）\n",
    "sobel_x = cv2.Sobel(gray_img, cv2.CV_64F, 1, 0, ksize=3)\n",
    "sobel_y = cv2.Sobel(gray_img, cv2.CV_64F, 0, 1, ksize=3)\n",
    "energy_map = cv2.add(np.absolute(sobel_x), np.absolute(sobel_y))\n",
    "\n",
    "# 选择需要删除的seam，直到达到目标尺寸\n",
    "for i in range(img.shape[1] - new_width):\n",
    "    # 计算每个通道的能量值\n",
    "    energy_map_r = cv2.Sobel(img[:,:,2], cv2.CV_64F, 1, 0, ksize=3)\n",
    "    energy_map_g = cv2.Sobel(img[:,:,1], cv2.CV_64F, 1, 0, ksize=3)\n",
    "    energy_map_b = cv2.Sobel(img[:,:,0], cv2.CV_64F, 1, 0, ksize=3)\n",
    "    energy_map = cv2.add(np.absolute(energy_map_r), np.absolute(energy_map_g))\n",
    "    energy_map = cv2.add(energy_map, np.absolute(energy_map_b))\n",
    "\n",
    "    # 找到能量值最小的seam\n",
    "    min_energy_seam = np.zeros((img.shape[0]), dtype=np.int32)\n",
    "    seam_energy = np.zeros((img.shape[0], img.shape[1]))\n",
    "    for j in range(img.shape[0]):\n",
    "        if j == 0:\n",
    "            seam_energy[j,:] = energy_map[j,:]\n",
    "        else:\n",
    "            for k in range(img.shape[1]):\n",
    "                if k == 0:\n",
    "                    seam_energy[j][k] = energy_map[j][k] + min(seam_energy[j-1][k], seam_energy[j-1][k+1])\n",
    "                elif k == img.shape[1]-1:\n",
    "                    seam_energy[j][k] = energy_map[j][k] + min(seam_energy[j-1][k-1], seam_energy[j-1][k])\n",
    "                else:\n",
    "                    seam_energy[j][k] = energy_map[j][k] + min(seam_energy[j-1][k-1], seam_energy[j-1][k], seam_energy[j-1][k+1])\n",
    "        min_energy_seam[j] = np.argmin(seam_energy[-1,:])\n",
    "\n",
    "    # 删除能量值最小的seam\n",
    "    for j in range(img.shape[0]):\n",
    "        img[j, min_energy_seam[j]:-1, :] = img[j, min_energy_seam[j]+1:, :]\n",
    "    \n",
    "# 缩小图像以达到目标尺寸\n",
    "img = cv2.resize(img, (new_width, new_height), interpolation=cv2.INTER_AREA)\n",
    "\n",
    "# 显示图像\n",
    "cv2.imshow('Resized Image', img)\n",
    "cv2.waitKey(0)\n",
    "cv2.destroyAllWindows()\n",
    "cv2.imwrite(\"D:/test_pic/fd_2.jpg\",img)"
   ]
  },
  {
   "cell_type": "code",
   "execution_count": null,
   "id": "23e2f35e",
   "metadata": {},
   "outputs": [],
   "source": []
  }
 ],
 "metadata": {
  "kernelspec": {
   "display_name": "Python 3",
   "language": "python",
   "name": "python3"
  },
  "language_info": {
   "codemirror_mode": {
    "name": "ipython",
    "version": 3
   },
   "file_extension": ".py",
   "mimetype": "text/x-python",
   "name": "python",
   "nbconvert_exporter": "python",
   "pygments_lexer": "ipython3",
   "version": "3.6.13"
  },
  "toc": {
   "base_numbering": 1,
   "nav_menu": {},
   "number_sections": true,
   "sideBar": true,
   "skip_h1_title": false,
   "title_cell": "Table of Contents",
   "title_sidebar": "Contents",
   "toc_cell": false,
   "toc_position": {},
   "toc_section_display": true,
   "toc_window_display": false
  }
 },
 "nbformat": 4,
 "nbformat_minor": 5
}
