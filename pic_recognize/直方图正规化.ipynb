{
 "cells": [
  {
   "cell_type": "code",
   "execution_count": 1,
   "id": "2d9f1f43",
   "metadata": {},
   "outputs": [],
   "source": [
    "import cv2\n",
    "import numpy as np\n",
    "import matplotlib.pyplot as plt"
   ]
  },
  {
   "cell_type": "code",
   "execution_count": 33,
   "id": "9735b8ad",
   "metadata": {},
   "outputs": [],
   "source": [
    "def hist_Normalized(in_image,O_min = 0,O_max = 255):\n",
    "    i_min = np.min(in_image)\n",
    "    i_max = np.max(in_image)\n",
    "    rows,cols = in_image.shape\n",
    "    result = np.zeros(in_image.shape,np.float32)\n",
    "    cofficient = float(O_max-O_min)/float(i_max-i_min)\n",
    "    for r in range(rows):\n",
    "        for c in range(cols):\n",
    "            result[r][c] = cofficient*(in_image[r][c]-i_min)+O_min\n",
    "    return result"
   ]
  },
  {
   "cell_type": "code",
   "execution_count": 34,
   "id": "4d7726d7",
   "metadata": {},
   "outputs": [],
   "source": [
    "path = 'D:/test_pic/2.jpg'\n",
    "imag=cv2.imread(path,1)\n",
    "(b,g,r)=cv2.split(imag)"
   ]
  },
  {
   "cell_type": "code",
   "execution_count": 35,
   "id": "f8d4b478",
   "metadata": {},
   "outputs": [],
   "source": [
    "bh = hist_Normalized(b)\n",
    "gh = hist_Normalized(g)\n",
    "rh = hist_Normalized(r)"
   ]
  },
  {
   "cell_type": "code",
   "execution_count": 36,
   "id": "1fcc3951",
   "metadata": {},
   "outputs": [
    {
     "name": "stdout",
     "output_type": "stream",
     "text": [
      "(720, 720)\n",
      "(720, 720)\n",
      "(720, 720)\n"
     ]
    }
   ],
   "source": [
    "print(bh.shape)\n",
    "print(gh.shape)\n",
    "print(rh.shape)"
   ]
  },
  {
   "cell_type": "code",
   "execution_count": 37,
   "id": "7a664820",
   "metadata": {},
   "outputs": [],
   "source": [
    "rr_image = cv2.merge((bh,gh,rh))"
   ]
  },
  {
   "cell_type": "code",
   "execution_count": 38,
   "id": "a5b9bf98",
   "metadata": {},
   "outputs": [],
   "source": [
    "cv2.imshow('rr_image',rr_image)\n",
    "cv2.waitKey(0)\n",
    "cv2.destroyAllWindows()"
   ]
  },
  {
   "cell_type": "code",
   "execution_count": null,
   "id": "e26a7d52",
   "metadata": {},
   "outputs": [],
   "source": []
  }
 ],
 "metadata": {
  "kernelspec": {
   "display_name": "Python 3",
   "language": "python",
   "name": "python3"
  },
  "language_info": {
   "codemirror_mode": {
    "name": "ipython",
    "version": 3
   },
   "file_extension": ".py",
   "mimetype": "text/x-python",
   "name": "python",
   "nbconvert_exporter": "python",
   "pygments_lexer": "ipython3",
   "version": "3.6.13"
  }
 },
 "nbformat": 4,
 "nbformat_minor": 5
}
