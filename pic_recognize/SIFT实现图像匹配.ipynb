{
 "cells": [
  {
   "cell_type": "code",
   "execution_count": 1,
   "id": "522264c2",
   "metadata": {},
   "outputs": [],
   "source": [
    "import cv2"
   ]
  },
  {
   "cell_type": "code",
   "execution_count": 2,
   "id": "092c44a7",
   "metadata": {},
   "outputs": [],
   "source": [
    "img1 = cv2.imread('D:/test_pic/2_1.jpg')\n",
    "img2 = cv2.imread('D:/test_pic/2_2.jpg')"
   ]
  },
  {
   "cell_type": "code",
   "execution_count": 3,
   "id": "f99be283",
   "metadata": {},
   "outputs": [],
   "source": [
    "img1 = cv2.normalize(img1,None,0,255,cv2.NORM_MINMAX).astype('uint8')\n",
    "img2 = cv2.normalize(img2,None,0,255,cv2.NORM_MINMAX).astype('uint8')"
   ]
  },
  {
   "cell_type": "code",
   "execution_count": 4,
   "id": "9f7d70a0",
   "metadata": {},
   "outputs": [],
   "source": [
    "sift = cv2.SIFT_create()"
   ]
  },
  {
   "cell_type": "code",
   "execution_count": 5,
   "id": "b86174a1",
   "metadata": {},
   "outputs": [],
   "source": [
    "kp1,des1 = sift.detectAndCompute(img1, None)\n",
    "kp2,des2 = sift.detectAndCompute(img2, None)"
   ]
  },
  {
   "cell_type": "code",
   "execution_count": 6,
   "id": "20119c92",
   "metadata": {},
   "outputs": [],
   "source": [
    "F_I_K = 0\n",
    "index_params = dict(algorithm = F_I_K,trees = 5)\n",
    "search_params = dict(checks=50)\n",
    "flann = cv2.FlannBasedMatcher(index_params,search_params)"
   ]
  },
  {
   "cell_type": "code",
   "execution_count": 7,
   "id": "2cc6845b",
   "metadata": {},
   "outputs": [],
   "source": [
    "matches = flann.knnMatch(des1,des2,k=2)\n",
    "g_m = []\n",
    "for m,n in matches:\n",
    "    if m.distance <0.8*n.distance:\n",
    "        g_m.append(m)"
   ]
  },
  {
   "cell_type": "code",
   "execution_count": 8,
   "id": "679c271f",
   "metadata": {},
   "outputs": [],
   "source": [
    "img3 = cv2.drawMatches(img1,kp1,img2,kp2,g_m,None,flags=2)"
   ]
  },
  {
   "cell_type": "code",
   "execution_count": null,
   "id": "0ffe38b0",
   "metadata": {},
   "outputs": [],
   "source": [
    "cv2.imshow(\"SIFT_FEATURES Matching\",img3)\n",
    "cv2.waitKey(0)\n",
    "cv2.destroyAllWindows()"
   ]
  },
  {
   "cell_type": "code",
   "execution_count": null,
   "id": "2756c080",
   "metadata": {},
   "outputs": [],
   "source": []
  }
 ],
 "metadata": {
  "kernelspec": {
   "display_name": "Python 3",
   "language": "python",
   "name": "python3"
  },
  "language_info": {
   "codemirror_mode": {
    "name": "ipython",
    "version": 3
   },
   "file_extension": ".py",
   "mimetype": "text/x-python",
   "name": "python",
   "nbconvert_exporter": "python",
   "pygments_lexer": "ipython3",
   "version": "3.6.13"
  },
  "toc": {
   "base_numbering": 1,
   "nav_menu": {},
   "number_sections": true,
   "sideBar": true,
   "skip_h1_title": false,
   "title_cell": "Table of Contents",
   "title_sidebar": "Contents",
   "toc_cell": false,
   "toc_position": {},
   "toc_section_display": true,
   "toc_window_display": false
  }
 },
 "nbformat": 4,
 "nbformat_minor": 5
}
