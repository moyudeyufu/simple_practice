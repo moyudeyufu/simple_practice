{
 "cells": [
  {
   "cell_type": "code",
   "execution_count": 1,
   "id": "32bb7c95",
   "metadata": {},
   "outputs": [],
   "source": [
    "import numpy as np\n",
    "import cv2\n",
    "import math"
   ]
  },
  {
   "cell_type": "code",
   "execution_count": 2,
   "id": "5c4ec2f0",
   "metadata": {},
   "outputs": [],
   "source": [
    "path='D:/test_pic/2.jpg'\n",
    "#imag=cv2.imread(path,1)\n",
    "image = cv2.imread(path,cv2.IMREAD_COLOR).astype(np.float32)/255.0\n",
    "hlsImg = cv2.cvtColor(image, cv2.COLOR_BGR2HLS)"
   ]
  },
  {
   "cell_type": "code",
   "execution_count": 3,
   "id": "af4220ae",
   "metadata": {},
   "outputs": [],
   "source": [
    "#亮度和饱和度的范围\n",
    "max_ls = 100\n",
    "min_ls = 0\n",
    "#色调范围\n",
    "max_h =360\n",
    "min_h =0"
   ]
  },
  {
   "cell_type": "code",
   "execution_count": 4,
   "id": "1e15b88f",
   "metadata": {},
   "outputs": [],
   "source": [
    "cv2.namedWindow(\"HUE,lightness and saturation\",cv2.WINDOW_GUI_NORMAL)"
   ]
  },
  {
   "cell_type": "code",
   "execution_count": 5,
   "id": "e49c8927",
   "metadata": {},
   "outputs": [],
   "source": [
    "#创建滑动块\n",
    "cv2.createTrackbar(\"HUE\",\"HUE,lightness and saturation\",min_h,max_h,lambda x:x)\n",
    "cv2.createTrackbar(\"lightness\",\"HUE,lightness and saturation\",min_ls,max_ls,lambda x:x)\n",
    "cv2.createTrackbar(\"saturation\",\"HUE,lightness and saturation\",min_ls,max_ls,lambda x:x)"
   ]
  },
  {
   "cell_type": "code",
   "execution_count": 6,
   "id": "16d565e0",
   "metadata": {},
   "outputs": [
    {
     "ename": "error",
     "evalue": "OpenCV(4.6.0) D:\\a\\opencv-python\\opencv-python\\opencv\\modules\\highgui\\src\\window_w32.cpp:2581: error: (-27:Null pointer) NULL window: 'HUE,lightness and saturation' in function 'cvGetTrackbarPos'\n",
     "output_type": "error",
     "traceback": [
      "\u001b[1;31m---------------------------------------------------------------------------\u001b[0m",
      "\u001b[1;31merror\u001b[0m                                     Traceback (most recent call last)",
      "\u001b[1;32m<ipython-input-6-a556f61d6076>\u001b[0m in \u001b[0;36m<module>\u001b[1;34m\u001b[0m\n\u001b[0;32m      3\u001b[0m     \u001b[0mhlsCopy\u001b[0m \u001b[1;33m=\u001b[0m \u001b[0mnp\u001b[0m\u001b[1;33m.\u001b[0m\u001b[0mcopy\u001b[0m\u001b[1;33m(\u001b[0m\u001b[0mhlsImg\u001b[0m\u001b[1;33m)\u001b[0m\u001b[1;33m\u001b[0m\u001b[1;33m\u001b[0m\u001b[0m\n\u001b[0;32m      4\u001b[0m \u001b[1;33m\u001b[0m\u001b[0m\n\u001b[1;32m----> 5\u001b[1;33m     \u001b[0mHUE\u001b[0m \u001b[1;33m=\u001b[0m \u001b[0mcv2\u001b[0m\u001b[1;33m.\u001b[0m\u001b[0mgetTrackbarPos\u001b[0m\u001b[1;33m(\u001b[0m\u001b[1;34m'HUE'\u001b[0m\u001b[1;33m,\u001b[0m\u001b[1;34m'HUE,lightness and saturation'\u001b[0m\u001b[1;33m)\u001b[0m\u001b[1;33m\u001b[0m\u001b[1;33m\u001b[0m\u001b[0m\n\u001b[0m\u001b[0;32m      6\u001b[0m     \u001b[0mlightness\u001b[0m \u001b[1;33m=\u001b[0m \u001b[0mcv2\u001b[0m\u001b[1;33m.\u001b[0m\u001b[0mgetTrackbarPos\u001b[0m\u001b[1;33m(\u001b[0m\u001b[1;34m'lightness'\u001b[0m\u001b[1;33m,\u001b[0m\u001b[1;34m'HUE,lightness and saturation'\u001b[0m\u001b[1;33m)\u001b[0m\u001b[1;33m\u001b[0m\u001b[1;33m\u001b[0m\u001b[0m\n\u001b[0;32m      7\u001b[0m     \u001b[0msaturation\u001b[0m \u001b[1;33m=\u001b[0m \u001b[0mcv2\u001b[0m\u001b[1;33m.\u001b[0m\u001b[0mgetTrackbarPos\u001b[0m\u001b[1;33m(\u001b[0m\u001b[1;34m'saturation'\u001b[0m\u001b[1;33m,\u001b[0m\u001b[1;34m'HUE,lightness and saturation'\u001b[0m\u001b[1;33m)\u001b[0m\u001b[1;33m\u001b[0m\u001b[1;33m\u001b[0m\u001b[0m\n",
      "\u001b[1;31merror\u001b[0m: OpenCV(4.6.0) D:\\a\\opencv-python\\opencv-python\\opencv\\modules\\highgui\\src\\window_w32.cpp:2581: error: (-27:Null pointer) NULL window: 'HUE,lightness and saturation' in function 'cvGetTrackbarPos'\n"
     ]
    }
   ],
   "source": [
    "#调整\n",
    "while True:\n",
    "    hlsCopy = np.copy(hlsImg)\n",
    "\n",
    "    HUE = cv2.getTrackbarPos('HUE','HUE,lightness and saturation')\n",
    "    lightness = cv2.getTrackbarPos('lightness','HUE,lightness and saturation')\n",
    "    saturation = cv2.getTrackbarPos('saturation','HUE,lightness and saturation')\n",
    "#调整亮度\n",
    "    hlsCopy[:,:,1] = (1.0+lightness/float(max_ls))*hlsCopy[:,:,1]\n",
    "    hlsCopy[:,:,1][hlsCopy[:,:,1]>1]=1\n",
    "#饱和度\n",
    "    hlsCopy[:,:,2] = (1.0+saturation/float(max_ls))*hlsCopy[:,:,2]\n",
    "    hlsCopy[:,:,2][hlsCopy[:,:,2]>1]=1\n",
    "#色调\n",
    "    hlsCopy[:,:,0] = (1.0+HUE/float(max_h))*hlsCopy[:,:,0]\n",
    "    hlsCopy[:,:,0][hlsCopy[:,:,0]>360]=360\n",
    "\n",
    "    Isimg = cv2.cvtColor(hlsCopy,cv2.COLOR_HLS2BGR)\n",
    "\n",
    "    cv2.imshow(\"HUE,lightness and saturation\", Isimg)\n",
    "    \n",
    "    ch = cv2.waitKey(5)\n",
    "        # 按 ESC 键退出\n",
    "    if ch == 27:\n",
    "            break\n",
    "    elif ch == ord('s'):\n",
    "        lsImg = lsImg * 255\n",
    "        lsImg = lsImg.astype(np.uint8)\n",
    "        cv2.imwrite(\"lsImg.jpg\", lsImg)\n",
    "        break\n",
    "cv2.destroyAllWindows()"
   ]
  },
  {
   "cell_type": "code",
   "execution_count": null,
   "id": "3848b893",
   "metadata": {},
   "outputs": [],
   "source": []
  },
  {
   "cell_type": "code",
   "execution_count": null,
   "id": "1130e731",
   "metadata": {},
   "outputs": [],
   "source": []
  },
  {
   "cell_type": "code",
   "execution_count": null,
   "id": "23815fe8",
   "metadata": {},
   "outputs": [],
   "source": []
  }
 ],
 "metadata": {
  "kernelspec": {
   "display_name": "Python 3",
   "language": "python",
   "name": "python3"
  },
  "language_info": {
   "codemirror_mode": {
    "name": "ipython",
    "version": 3
   },
   "file_extension": ".py",
   "mimetype": "text/x-python",
   "name": "python",
   "nbconvert_exporter": "python",
   "pygments_lexer": "ipython3",
   "version": "3.6.13"
  },
  "toc": {
   "base_numbering": 1,
   "nav_menu": {},
   "number_sections": true,
   "sideBar": true,
   "skip_h1_title": false,
   "title_cell": "Table of Contents",
   "title_sidebar": "Contents",
   "toc_cell": false,
   "toc_position": {},
   "toc_section_display": true,
   "toc_window_display": false
  }
 },
 "nbformat": 4,
 "nbformat_minor": 5
}
