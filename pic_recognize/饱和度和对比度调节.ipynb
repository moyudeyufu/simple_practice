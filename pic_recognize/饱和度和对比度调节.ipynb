{
 "cells": [
  {
   "cell_type": "code",
   "execution_count": 1,
   "id": "9a0324ec",
   "metadata": {},
   "outputs": [],
   "source": [
    "# !/usr/bin/env python\n",
    "# -*-encoding: utf-8-*-\n",
    "# author:LiYanwei\n",
    "# version:0.1\n",
    "\n",
    "\n",
    "import numpy as np\n",
    "import cv2\n",
    "\n",
    "\n",
    "def main():\n",
    "    # 加载图片 读取彩色图像\n",
    "    image = cv2.imread('D:/test_pic/2.jpg', cv2.IMREAD_COLOR)\n",
    "    # print(image)\n",
    "    # cv2.imshow(\"image\", image)\n",
    "    # 图像归一化，且转换为浮点型\n",
    "    fImg = image.astype(np.float32)\n",
    "    fImg = fImg / 255.0\n",
    "    # 颜色空间转换 BGR转为HLS\n",
    "    hlsImg = cv2.cvtColor(fImg, cv2.COLOR_BGR2HLS)\n",
    "    l = 100\n",
    "    s = 100\n",
    "    MAX_VALUE = 100\n",
    "    # 调节饱和度和亮度的窗口\n",
    "    cv2.namedWindow(\"l and s\", cv2.WINDOW_AUTOSIZE)\n",
    "    def nothing(*arg):\n",
    "        pass\n",
    "    # 滑动块\n",
    "    cv2.createTrackbar(\"l\", \"l and s\", l, MAX_VALUE, nothing)\n",
    "    cv2.createTrackbar(\"s\", \"l and s\", s, MAX_VALUE, nothing)\n",
    "    # 调整饱和度和亮度后的效果\n",
    "    lsImg = np.zeros(image.shape, np.float32)\n",
    "    # 调整饱和度和亮度\n",
    "    while True:\n",
    "        # 复制\n",
    "        hlsCopy = np.copy(hlsImg)\n",
    "        # 得到 l 和 s 的值\n",
    "        l = cv2.getTrackbarPos('l', 'l and s')\n",
    "        s = cv2.getTrackbarPos('s', 'l and s')\n",
    "        # 1.调整亮度（线性变换) , 2.将hlsCopy[:, :, 1]和hlsCopy[:, :, 2]中大于1的全部截取\n",
    "        hlsCopy[:, :, 1] = (1.0 + l / float(MAX_VALUE)) * hlsCopy[:, :, 1]\n",
    "        hlsCopy[:, :, 1][hlsCopy[:, :, 1] > 1] = 1\n",
    "        # 饱和度\n",
    "        hlsCopy[:, :, 2] = (1.0 + s / float(MAX_VALUE)) * hlsCopy[:, :, 2]\n",
    "        hlsCopy[:, :, 2][hlsCopy[:, :, 2] > 1] = 1\n",
    "        # HLS2BGR\n",
    "        lsImg = cv2.cvtColor(hlsCopy, cv2.COLOR_HLS2BGR)\n",
    "        # 显示调整后的效果\n",
    "        cv2.imshow(\"l and s\", lsImg)\n",
    "\n",
    "        ch = cv2.waitKey(5)\n",
    "        # 按 ESC 键退出\n",
    "        if ch == 27:\n",
    "            break\n",
    "        elif ch == ord('s'):\n",
    "            # 按 s 键保存并退出\n",
    "            # 保存结果\n",
    "            lsImg = lsImg * 255\n",
    "            lsImg = lsImg.astype(np.uint8)\n",
    "            cv2.imwrite(\"lsImg.jpg\", lsImg)\n",
    "            break\n",
    "\n",
    "    # 关闭所有的窗口\n",
    "    cv2.destroyAllWindows()"
   ]
  },
  {
   "cell_type": "code",
   "execution_count": 2,
   "id": "0b832429",
   "metadata": {},
   "outputs": [
    {
     "ename": "error",
     "evalue": "OpenCV(4.6.0) D:\\a\\opencv-python\\opencv-python\\opencv\\modules\\highgui\\src\\window_w32.cpp:2581: error: (-27:Null pointer) NULL window: 'l and s' in function 'cvGetTrackbarPos'\n",
     "output_type": "error",
     "traceback": [
      "\u001b[1;31m---------------------------------------------------------------------------\u001b[0m",
      "\u001b[1;31merror\u001b[0m                                     Traceback (most recent call last)",
      "\u001b[1;32m<ipython-input-2-972361fa1b80>\u001b[0m in \u001b[0;36m<module>\u001b[1;34m\u001b[0m\n\u001b[0;32m      1\u001b[0m \u001b[1;32mif\u001b[0m \u001b[0m__name__\u001b[0m \u001b[1;33m==\u001b[0m \u001b[1;34m\"__main__\"\u001b[0m\u001b[1;33m:\u001b[0m\u001b[1;33m\u001b[0m\u001b[1;33m\u001b[0m\u001b[0m\n\u001b[1;32m----> 2\u001b[1;33m     \u001b[0mmain\u001b[0m\u001b[1;33m(\u001b[0m\u001b[1;33m)\u001b[0m\u001b[1;33m\u001b[0m\u001b[1;33m\u001b[0m\u001b[0m\n\u001b[0m",
      "\u001b[1;32m<ipython-input-1-ac090241cd22>\u001b[0m in \u001b[0;36mmain\u001b[1;34m()\u001b[0m\n\u001b[0;32m     36\u001b[0m         \u001b[0mhlsCopy\u001b[0m \u001b[1;33m=\u001b[0m \u001b[0mnp\u001b[0m\u001b[1;33m.\u001b[0m\u001b[0mcopy\u001b[0m\u001b[1;33m(\u001b[0m\u001b[0mhlsImg\u001b[0m\u001b[1;33m)\u001b[0m\u001b[1;33m\u001b[0m\u001b[1;33m\u001b[0m\u001b[0m\n\u001b[0;32m     37\u001b[0m         \u001b[1;31m# 得到 l 和 s 的值\u001b[0m\u001b[1;33m\u001b[0m\u001b[1;33m\u001b[0m\u001b[1;33m\u001b[0m\u001b[0m\n\u001b[1;32m---> 38\u001b[1;33m         \u001b[0ml\u001b[0m \u001b[1;33m=\u001b[0m \u001b[0mcv2\u001b[0m\u001b[1;33m.\u001b[0m\u001b[0mgetTrackbarPos\u001b[0m\u001b[1;33m(\u001b[0m\u001b[1;34m'l'\u001b[0m\u001b[1;33m,\u001b[0m \u001b[1;34m'l and s'\u001b[0m\u001b[1;33m)\u001b[0m\u001b[1;33m\u001b[0m\u001b[1;33m\u001b[0m\u001b[0m\n\u001b[0m\u001b[0;32m     39\u001b[0m         \u001b[0ms\u001b[0m \u001b[1;33m=\u001b[0m \u001b[0mcv2\u001b[0m\u001b[1;33m.\u001b[0m\u001b[0mgetTrackbarPos\u001b[0m\u001b[1;33m(\u001b[0m\u001b[1;34m's'\u001b[0m\u001b[1;33m,\u001b[0m \u001b[1;34m'l and s'\u001b[0m\u001b[1;33m)\u001b[0m\u001b[1;33m\u001b[0m\u001b[1;33m\u001b[0m\u001b[0m\n\u001b[0;32m     40\u001b[0m         \u001b[1;31m# 1.调整亮度（线性变换) , 2.将hlsCopy[:, :, 1]和hlsCopy[:, :, 2]中大于1的全部截取\u001b[0m\u001b[1;33m\u001b[0m\u001b[1;33m\u001b[0m\u001b[1;33m\u001b[0m\u001b[0m\n",
      "\u001b[1;31merror\u001b[0m: OpenCV(4.6.0) D:\\a\\opencv-python\\opencv-python\\opencv\\modules\\highgui\\src\\window_w32.cpp:2581: error: (-27:Null pointer) NULL window: 'l and s' in function 'cvGetTrackbarPos'\n"
     ]
    }
   ],
   "source": [
    "if __name__ == \"__main__\":\n",
    "    main()"
   ]
  },
  {
   "cell_type": "code",
   "execution_count": null,
   "id": "cd938996",
   "metadata": {},
   "outputs": [],
   "source": []
  }
 ],
 "metadata": {
  "kernelspec": {
   "display_name": "Python 3",
   "language": "python",
   "name": "python3"
  },
  "language_info": {
   "codemirror_mode": {
    "name": "ipython",
    "version": 3
   },
   "file_extension": ".py",
   "mimetype": "text/x-python",
   "name": "python",
   "nbconvert_exporter": "python",
   "pygments_lexer": "ipython3",
   "version": "3.6.13"
  },
  "toc": {
   "base_numbering": 1,
   "nav_menu": {},
   "number_sections": true,
   "sideBar": true,
   "skip_h1_title": false,
   "title_cell": "Table of Contents",
   "title_sidebar": "Contents",
   "toc_cell": false,
   "toc_position": {},
   "toc_section_display": true,
   "toc_window_display": false
  }
 },
 "nbformat": 4,
 "nbformat_minor": 5
}
